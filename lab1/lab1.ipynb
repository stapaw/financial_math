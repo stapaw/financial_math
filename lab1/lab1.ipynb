{
 "cells": [
  {
   "cell_type": "markdown",
   "metadata": {},
   "source": [
    "## LAB 1"
   ]
  },
  {
   "cell_type": "code",
   "execution_count": 71,
   "metadata": {},
   "outputs": [],
   "source": [
    "from math import pi, e, cos, sqrt, factorial, floor, erf\n",
    "import numpy as np\n",
    "from matplotlib import pyplot as plt\n",
    "from scipy.special import comb\n",
    "import random"
   ]
  },
  {
   "cell_type": "markdown",
   "metadata": {},
   "source": [
    "# Exercise 1"
   ]
  },
  {
   "cell_type": "code",
   "execution_count": 57,
   "metadata": {},
   "outputs": [],
   "source": [
    "def get_generator_values(n, generator_func, init_func, change_seed_func):\n",
    "    generated = []\n",
    "    values = init_func()\n",
    "    for i in range(0, n):\n",
    "        seed, x  = generator_func(*values)\n",
    "        values = change_seed_func(seed)\n",
    "        generated.append(x)\n",
    "    return generated\n",
    "        "
   ]
  },
  {
   "cell_type": "code",
   "execution_count": 58,
   "metadata": {},
   "outputs": [],
   "source": [
    "def linear_generator(a1, a0, m, seed=0):\n",
    "    x = (a1 * seed + a0) % m\n",
    "    return x, x/(m-1)\n",
    "    \n",
    "def init_linear_generator(seed):\n",
    "    a1, a0 =  pi * 10 ** 9, e * 10 ** 9, \n",
    "    m = 2 ** 35 \n",
    "    return a1, a0, m, seed\n",
    "\n",
    "def change_linear_generator_seed(seed):\n",
    "    return init_linear_generator(seed)"
   ]
  },
  {
   "cell_type": "code",
   "execution_count": 67,
   "metadata": {},
   "outputs": [
    {
     "data": {
      "text/plain": [
       "<module 'matplotlib.pyplot' from '/home/stanislaw/.local/lib/python3.6/site-packages/matplotlib/pyplot.py'>"
      ]
     },
     "execution_count": 67,
     "metadata": {},
     "output_type": "execute_result"
    },
    {
     "data": {
      "image/png": "[encoded data removed]",
      "text/plain": [
       "<Figure size 432x288 with 1 Axes>"
      ]
     },
     "metadata": {
      "needs_background": "light"
     },
     "output_type": "display_data"
    }
   ],
   "source": [
    "generated_linear = get_generator_values(100000,\n",
    "                                        linear_generator,\n",
    "                                        lambda: init_linear_generator(seed=0),\n",
    "                                        change_linear_generator_seed)\n",
    "\n",
    "bins = np.linspace(0, 1, 20)\n",
    "plt.hist(generated_linear, bins=bins, alpha=0.5)\n",
    "plt"
   ]
  },
  {
   "cell_type": "markdown",
   "metadata": {},
   "source": [
    "# Exercise 5 (Connected with ex. 1)"
   ]
  },
  {
   "cell_type": "code",
   "execution_count": 62,
   "metadata": {},
   "outputs": [],
   "source": [
    "def init_JKISS_generator():\n",
    "    x = 123456789\n",
    "    y = 987654321\n",
    "    z = 43219876\n",
    "    c = 6543217\n",
    "    m = 2**32\n",
    "    return x, y, z, c, m\n",
    "\n",
    "def JKISS_generator(x, y, z, c, m):\n",
    "    x = to_int32(to_int32(314527869 * x) + 1234567)\n",
    "    y ^= to_int32(y << 5)\n",
    "    y ^= y >> 7\n",
    "    y ^= to_int32(y << 22)\n",
    "    t = ((4294584393 * z) % (2 ** 64) + c) % (2 ** 64)\n",
    "    c = t >> 32\n",
    "    z = to_int32(t)\n",
    "    return [x, y, z, c, m], to_int32(x + y + z)/(m-1)\n",
    "\n",
    "def to_int32(number):\n",
    "    return number % (2 ** 32)\n",
    "\n",
    "def change_JKISS_generator_seed(values):\n",
    "    return values\n",
    "\n"
   ]
  },
  {
   "cell_type": "code",
   "execution_count": 68,
   "metadata": {},
   "outputs": [
    {
     "data": {
      "text/plain": [
       "<module 'matplotlib.pyplot' from '/home/stanislaw/.local/lib/python3.6/site-packages/matplotlib/pyplot.py'>"
      ]
     },
     "execution_count": 68,
     "metadata": {},
     "output_type": "execute_result"
    },
    {
     "data": {
      "image/png": "[encoded data removed]",
      "text/plain": [
       "<Figure size 432x288 with 1 Axes>"
      ]
     },
     "metadata": {
      "needs_background": "light"
     },
     "output_type": "display_data"
    }
   ],
   "source": [
    "generated_JKISS = get_generator_values(100000,\n",
    "                    JKISS_generator,\n",
    "                    init_JKISS_generator,\n",
    "                    change_JKISS_generator_seed)\n",
    "bins = np.linspace(0, 1, 20)\n",
    "plt.hist(generated_JKISS, bins=bins, alpha=0.5)\n",
    "plt"
   ]
  },
  {
   "cell_type": "markdown",
   "metadata": {},
   "source": [
    "Time comparison"
   ]
  },
  {
   "cell_type": "code",
   "execution_count": 72,
   "metadata": {},
   "outputs": [
    {
     "data": {
      "text/plain": [
       "0.9778941083851321"
      ]
     },
     "execution_count": 72,
     "metadata": {},
     "output_type": "execute_result"
    }
   ],
   "source": [
    "random.random()"
   ]
  },
  {
   "cell_type": "markdown",
   "metadata": {},
   "source": [
    "# Exercise 2"
   ]
  },
  {
   "cell_type": "code",
   "execution_count": 11,
   "metadata": {},
   "outputs": [],
   "source": [
    "def f(x):\n",
    "    return (1 + cos(x) * e ** ((-x ** 2) / 2)) / (1 + e ** (-1 / 2) * sqrt(2 * pi))\n",
    "\n",
    "def f_generator(a, b, d):\n",
    "    x = np.random.uniform(a, b)\n",
    "    y = np.random.uniform(0, d)\n",
    "    if y > f(x):\n",
    "        x = f_generator(a, b, d)\n",
    "    return x"
   ]
  },
  {
   "cell_type": "code",
   "execution_count": 13,
   "metadata": {},
   "outputs": [
    {
     "data": {
      "text/plain": [
       "<module 'matplotlib.pyplot' from '/home/stanislaw/.local/lib/python3.6/site-packages/matplotlib/pyplot.py'>"
      ]
     },
     "execution_count": 13,
     "metadata": {},
     "output_type": "execute_result"
    },
    {
     "data": {
      "image/png": "[encoded data removed]",
      "text/plain": [
       "<Figure size 432x288 with 1 Axes>"
      ]
     },
     "metadata": {
      "needs_background": "light"
     },
     "output_type": "display_data"
    }
   ],
   "source": [
    "data = np.arange(-10, 10, 0.1)\n",
    "f_data = np.array([f(x) for x in data])\n",
    "plt.plot(data, f_data)\n",
    "plt\n"
   ]
  },
  {
   "cell_type": "code",
   "execution_count": 14,
   "metadata": {},
   "outputs": [
    {
     "data": {
      "text/plain": [
       "<module 'matplotlib.pyplot' from '/home/stanislaw/.local/lib/python3.6/site-packages/matplotlib/pyplot.py'>"
      ]
     },
     "execution_count": 14,
     "metadata": {},
     "output_type": "execute_result"
    },
    {
     "data": {
      "image/png": "[encoded data removed]",
      "text/plain": [
       "<Figure size 432x288 with 1 Axes>"
      ]
     },
     "metadata": {
      "needs_background": "light"
     },
     "output_type": "display_data"
    }
   ],
   "source": [
    "data = np.arange(-10, 10, 0.5)\n",
    "f_data = np.array([f_generator(-10, 10, 0.8) for x in range(0, 10000)])\n",
    "plt.hist(f_data, bins=data, alpha=0.5)\n",
    "plt"
   ]
  },
  {
   "cell_type": "markdown",
   "metadata": {},
   "source": [
    "# Exercise 3"
   ]
  },
  {
   "cell_type": "code",
   "execution_count": 15,
   "metadata": {},
   "outputs": [],
   "source": [
    "def poisson_pmf(lbda, k):\n",
    "    return (lbda ** k * e ** (-lbda)) / factorial(k)\n",
    "\n",
    "\n",
    "def poisson_cdf(lbda, k):\n",
    "    result = 0\n",
    "    if k >= 0:\n",
    "        result = poisson_pmf(lbda, k) + poisson_cdf(lbda, k - 1)\n",
    "    return result\n",
    "\n",
    "\n",
    "def poisson_generator1(lbda):\n",
    "    x = np.random.uniform(0, 1)\n",
    "    result = 0\n",
    "    while (poisson_cdf(lbda, result - 1) > x) or (poisson_cdf(lbda, result) <= x):\n",
    "        result += 1\n",
    "    return result\n",
    "\n",
    "\n",
    "def poisson_generator2(lbda):\n",
    "    k = 0\n",
    "    p = 1\n",
    "    L = e ** (-lbda)\n",
    "    while p >= L:\n",
    "        k = k+1\n",
    "        p = p* np.random.uniform(0,1)\n",
    "    return k-1"
   ]
  },
  {
   "cell_type": "markdown",
   "metadata": {},
   "source": [
    "1. First option"
   ]
  },
  {
   "cell_type": "code",
   "execution_count": 22,
   "metadata": {},
   "outputs": [
    {
     "data": {
      "text/plain": [
       "<module 'matplotlib.pyplot' from '/home/stanislaw/.local/lib/python3.6/site-packages/matplotlib/pyplot.py'>"
      ]
     },
     "execution_count": 22,
     "metadata": {},
     "output_type": "execute_result"
    },
    {
     "data": {
      "image/png": "[encoded data removed]",
      "text/plain": [
       "<Figure size 432x288 with 1 Axes>"
      ]
     },
     "metadata": {
      "needs_background": "light"
     },
     "output_type": "display_data"
    }
   ],
   "source": [
    "\n",
    "data = np.arange(0, 20, 1)\n",
    "lbda1 = np.array([poisson_generator1(1) for x in range(0, 10000)])\n",
    "lbda5 = np.array([poisson_generator1(5) for x in range(0, 10000)])\n",
    "lbda10 = np.array([poisson_generator1(10) for x in range(0, 10000)])\n",
    "plt.hist(lbda1, bins=data, alpha=0.5)\n",
    "plt.hist(lbda5, bins=data, alpha=0.5)\n",
    "plt.hist(lbda10, bins=data, alpha=0.5)\n",
    "plt"
   ]
  },
  {
   "cell_type": "markdown",
   "metadata": {},
   "source": [
    "2. Second option"
   ]
  },
  {
   "cell_type": "code",
   "execution_count": 24,
   "metadata": {},
   "outputs": [
    {
     "data": {
      "text/plain": [
       "<module 'matplotlib.pyplot' from '/home/stanislaw/.local/lib/python3.6/site-packages/matplotlib/pyplot.py'>"
      ]
     },
     "execution_count": 24,
     "metadata": {},
     "output_type": "execute_result"
    },
    {
     "data": {
      "image/png": "[encoded data removed]",
      "text/plain": [
       "<Figure size 432x288 with 1 Axes>"
      ]
     },
     "metadata": {
      "needs_background": "light"
     },
     "output_type": "display_data"
    }
   ],
   "source": [
    "data = np.arange(0, 20, 1)\n",
    "lbda1 = np.array([poisson_generator2(1) for x in range(0, 10000)])\n",
    "lbda5 = np.array([poisson_generator2(5) for x in range(0, 10000)])\n",
    "lbda10 = np.array([poisson_generator2(10) for x in range(0, 10000)])\n",
    "plt.hist(lbda1, bins=data, alpha=0.5)\n",
    "plt.hist(lbda5, bins=data, alpha=0.5)\n",
    "plt.hist(lbda10, bins=data, alpha=0.5)\n",
    "plt"
   ]
  },
  {
   "cell_type": "markdown",
   "metadata": {},
   "source": [
    "# Exercise 4"
   ]
  },
  {
   "cell_type": "code",
   "execution_count": 27,
   "metadata": {},
   "outputs": [
    {
     "data": {
      "text/plain": [
       "<module 'matplotlib.pyplot' from '/home/stanislaw/.local/lib/python3.6/site-packages/matplotlib/pyplot.py'>"
      ]
     },
     "execution_count": 27,
     "metadata": {},
     "output_type": "execute_result"
    },
    {
     "data": {
      "image/png": "[encoded data removed]",
      "text/plain": [
       "<Figure size 432x288 with 1 Axes>"
      ]
     },
     "metadata": {
      "needs_background": "light"
     },
     "output_type": "display_data"
    }
   ],
   "source": [
    "def custom_cdf(x):\n",
    "    binomial_coef = sum(comb(10, i) * (1 / 3) ** i * (2 / 3) ** (10 - i) for i in range(0, floor(x) + 1))\n",
    "    normal_coef = 1 / 2 * (1 + erf(x / sqrt(2)))\n",
    "    exp_coef = 1 - e ** (-x)\n",
    "    return (binomial_coef + normal_coef + exp_coef) / 3\n",
    "\n",
    "\n",
    "data = np.arange(0, 20, 0.1)\n",
    "f_data = np.array([custom_cdf(x) for x in data])\n",
    "plt.plot(f_data)\n",
    "plt"
   ]
  },
  {
   "cell_type": "code",
   "execution_count": null,
   "metadata": {},
   "outputs": [],
   "source": []
  }
 ],
 "metadata": {
  "kernelspec": {
   "display_name": "Python 3",
   "language": "python",
   "name": "python3"
  },
  "language_info": {
   "codemirror_mode": {
    "name": "ipython",
    "version": 3
   },
   "file_extension": ".py",
   "mimetype": "text/x-python",
   "name": "python",
   "nbconvert_exporter": "python",
   "pygments_lexer": "ipython3",
   "version": "3.6.9"
  }
 },
 "nbformat": 4,
 "nbformat_minor": 2
}
