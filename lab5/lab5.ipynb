{
 "cells": [
  {
   "cell_type": "markdown",
   "metadata": {},
   "source": [
    "# MATEMATYKA FINANSOWA - Laboratorium 5\n",
    "Stanisław Pawlak"
   ]
  },
  {
   "cell_type": "code",
   "execution_count": 153,
   "metadata": {},
   "outputs": [],
   "source": [
    "import scipy.stats\n",
    "from scipy.stats import norm\n",
    "import numpy as np\n",
    "import matplotlib.pyplot as plt\n",
    "from tqdm import tqdm\n",
    "from math import  e, sqrt, factorial, floor, log"
   ]
  },
  {
   "cell_type": "markdown",
   "metadata": {},
   "source": [
    "## Zadanie 1"
   ]
  },
  {
   "cell_type": "markdown",
   "metadata": {},
   "source": [
    "$ c(S_{0},T,K,\\sigma,r) :=S_{0}\\Phi(d_{+}(S_{0},T,K,\\sigma,r))− Ke^{−rT}\\Phi(d_{−}(S_{0},T,K,\\sigma,r)),$\n",
    "\n",
    "gdzie $\\Phi$ jest dystrybuantą rozkładu $N(0,1)$ oraz \n",
    "\n",
    "$ d_{±}(S_{0},T,K,\\sigma,r) :=\\frac{log \\frac{S_{0}}{K} + (r± \\frac{\\sigma^{2}}{2})T}{\\sigma \\sqrt{T}}.$\n",
    "\n",
    "Zauważmy też, że $d_{+}() = d_{-}() - \\sigma \\sqrt{T}$"
   ]
  },
  {
   "cell_type": "code",
   "execution_count": 157,
   "metadata": {},
   "outputs": [
    {
     "data": {
      "text/plain": [
       "10.308150925634422"
      ]
     },
     "execution_count": 157,
     "metadata": {},
     "output_type": "execute_result"
    }
   ],
   "source": [
    "def d1(S0, T, K, sigma, r):\n",
    "    return (log(S0/K) + (r + sigma**2 /2)*T)/(sigma*sqrt(T))\n",
    "\n",
    "def d2(S0, T, K, sigma, r):\n",
    "    return d1(S0, T, K, sigma, r) -  sigma*sqrt(T)\n",
    "\n",
    "def BS_price(S0, T, K, sigma, r):\n",
    "    return S0* norm.cdf(d1(S0, T, K, sigma, r)) - K*e**(-r*T)*norm.cdf(d2(S0, T, K, sigma, r))\n",
    "\n",
    "BS_price(100, 1, 100, 0.1, 0.1)"
   ]
  },
  {
   "cell_type": "markdown",
   "metadata": {},
   "source": [
    "Implementacja Modelu CRR:"
   ]
  },
  {
   "cell_type": "code",
   "execution_count": 159,
   "metadata": {},
   "outputs": [
    {
     "data": {
      "text/html": [
       "\n",
       "        <script>\n",
       "            function code_toggle_4778630856772690046() {\n",
       "                $('div.cell.code_cell.rendered.selected').find('div.input').toggle();\n",
       "            }\n",
       "\n",
       "            \n",
       "        </script>\n",
       "\n",
       "        <a href=\"javascript:code_toggle_4778630856772690046()\">Toggle show/hide</a>\n",
       "    "
      ],
      "text/plain": [
       "<IPython.core.display.HTML object>"
      ]
     },
     "execution_count": 159,
     "metadata": {},
     "output_type": "execute_result"
    }
   ],
   "source": [
    "from IPython.display import HTML\n",
    "import random\n",
    "\n",
    "def hide_toggle(for_next=False):\n",
    "    this_cell = \"\"\"$('div.cell.code_cell.rendered.selected')\"\"\"\n",
    "    next_cell = this_cell + '.next()'\n",
    "\n",
    "    toggle_text = 'Toggle show/hide'  # text shown on toggle link\n",
    "    target_cell = this_cell  # target cell to control with toggle\n",
    "    js_hide_current = ''  # bit of JS to permanently hide code in current cell (only when toggling next cell)\n",
    "\n",
    "    if for_next:\n",
    "        target_cell = next_cell\n",
    "        toggle_text += ' next cell'\n",
    "        js_hide_current = this_cell + '.find(\"div.input\").hide();'\n",
    "\n",
    "    js_f_name = 'code_toggle_{}'.format(str(random.randint(1,2**64)))\n",
    "\n",
    "    html = \"\"\"\n",
    "        <script>\n",
    "            function {f_name}() {{\n",
    "                {cell_selector}.find('div.input').toggle();\n",
    "            }}\n",
    "\n",
    "            {js_hide_current}\n",
    "        </script>\n",
    "\n",
    "        <a href=\"javascript:{f_name}()\">{toggle_text}</a>\n",
    "    \"\"\".format(\n",
    "        f_name=js_f_name,\n",
    "        cell_selector=target_cell,\n",
    "        js_hide_current=js_hide_current, \n",
    "        toggle_text=toggle_text\n",
    "    )\n",
    "\n",
    "    return HTML(html)\n",
    "hide_toggle()\n"
   ]
  },
  {
   "cell_type": "code",
   "execution_count": 160,
   "metadata": {},
   "outputs": [
    {
     "data": {
      "text/html": [
       "\n",
       "        <script>\n",
       "            function code_toggle_10282523233855193593() {\n",
       "                $('div.cell.code_cell.rendered.selected').find('div.input').toggle();\n",
       "            }\n",
       "\n",
       "            \n",
       "        </script>\n",
       "\n",
       "        <a href=\"javascript:code_toggle_10282523233855193593()\">Toggle show/hide</a>\n",
       "    "
      ],
      "text/plain": [
       "<IPython.core.display.HTML object>"
      ]
     },
     "execution_count": 160,
     "metadata": {},
     "output_type": "execute_result"
    }
   ],
   "source": [
    "class BankAccount:\n",
    "    def __init__(self, r):\n",
    "        self.r = r\n",
    "\n",
    "    def get_bank_account_value(self, t):\n",
    "        return (1 + self.r) ** t\n",
    "\n",
    "\n",
    "class MarketInstrument:\n",
    "    def __init__(self, S_0):\n",
    "        self.S_0 = S_0\n",
    "\n",
    "    def calculate_call_option_value(self, market, T, K):\n",
    "        return self._calculate_option_value(self.get_call_option_value, market, T, K)\n",
    "        \n",
    "    def calculate_put_option_value(self, market, T, K):\n",
    "        return self._calculate_option_value(self.get_put_option_value, market, T, K)\n",
    "\n",
    "    def _calculate_option_value(self, option_func_type, market, t, K):\n",
    "        prices = [option_func_type(t, t-j, market.d, market.u, K) for j in range(0, t+1)]\n",
    "        return self._get_value(t, prices, market.d, market.u, market.r, market.p)\n",
    "    \n",
    "    def _get_value(self, t, prices, d, u,r, p):\n",
    "        if t == 0:\n",
    "            return prices[0]\n",
    "        else:\n",
    "            for i in range(0, t):\n",
    "                prices[i] =1/(1+r)*(p*prices[i] + (1-p)*prices[i+1])\n",
    "            #print(prices[:t])\n",
    "            return self._get_value(t-1, prices, d, u,r,  p)\n",
    "\n",
    "    \n",
    "    def get_call_option_value(self, t, j, d, u, K):\n",
    "        return max(self.S_0 * u ** j * d ** (t - j) - K, 0)\n",
    "    \n",
    "    def get_put_option_value(self, t, j, d, u, K):\n",
    "        return max(K - self.S_0 * u ** j * d ** (t - j), 0)\n",
    "\n",
    "hide_toggle()"
   ]
  },
  {
   "cell_type": "code",
   "execution_count": 161,
   "metadata": {},
   "outputs": [
    {
     "data": {
      "text/html": [
       "\n",
       "        <script>\n",
       "            function code_toggle_2877034673897436543() {\n",
       "                $('div.cell.code_cell.rendered.selected').find('div.input').toggle();\n",
       "            }\n",
       "\n",
       "            \n",
       "        </script>\n",
       "\n",
       "        <a href=\"javascript:code_toggle_2877034673897436543()\">Toggle show/hide</a>\n",
       "    "
      ],
      "text/plain": [
       "<IPython.core.display.HTML object>"
      ]
     },
     "execution_count": 161,
     "metadata": {},
     "output_type": "execute_result"
    }
   ],
   "source": [
    "class CRRMarket:\n",
    "    def __init__(self, S_0_values, d, u, r, T):\n",
    "        self.B = BankAccount(r)\n",
    "        self.p = (1 + r - d) / (u - d)\n",
    "        self.S = [MarketInstrument(S_0_values[i]) for i in range(0, len(S_0_values))]\n",
    "        self.d = d\n",
    "        self.u = u\n",
    "        self.r = r\n",
    "        self.T = T\n",
    "    \n",
    "    def calculate_call_options_values(self, T, K):\n",
    "        return [s.calculate_call_option_value(self, T, K[i]) for i, s in enumerate(self.S)]\n",
    "    \n",
    "    def calculate_put_options_values(self, T, K):\n",
    "        return [s.calculate_put_option_value(self, T, K[i]) for i, s in enumerate(self.S)]\n",
    "    \n",
    "hide_toggle()"
   ]
  },
  {
   "cell_type": "code",
   "execution_count": 162,
   "metadata": {},
   "outputs": [
    {
     "data": {
      "text/html": [
       "\n",
       "        <script>\n",
       "            function code_toggle_8590330473784799666() {\n",
       "                $('div.cell.code_cell.rendered.selected').find('div.input').toggle();\n",
       "            }\n",
       "\n",
       "            \n",
       "        </script>\n",
       "\n",
       "        <a href=\"javascript:code_toggle_8590330473784799666()\">Toggle show/hide</a>\n",
       "    "
      ],
      "text/plain": [
       "<IPython.core.display.HTML object>"
      ]
     },
     "execution_count": 162,
     "metadata": {},
     "output_type": "execute_result"
    }
   ],
   "source": [
    "import scipy.special\n",
    "def calculate_option_value_theory(option_func_type, market, t, K):\n",
    "        scaling_value = 1 / market.B.get_bank_account_value(t)\n",
    "        sum = 0\n",
    "        for j in range(0, t+1):\n",
    "            sum += scipy.special.comb(t, j, exact=True) * market.p ** j * (1 - market.p) ** (t - j) * option_func_type(t, j, market.d, market.u, K)\n",
    "        return sum * scaling_value\n",
    "hide_toggle()"
   ]
  },
  {
   "cell_type": "code",
   "execution_count": 171,
   "metadata": {},
   "outputs": [
    {
     "name": "stderr",
     "output_type": "stream",
     "text": [
      "100%|██████████| 400/400 [00:22<00:00, 18.01it/s]\n"
     ]
    }
   ],
   "source": [
    "def CRR_prep(T, n, sigma, r):\n",
    "    r_n = r * T/n\n",
    "    a_n = sigma * sqrt(T/n)\n",
    "    u_n = e** (a_n) * (1+r_n)\n",
    "    d_n = e** (-a_n) * (1+r_n)\n",
    "    return d_n, u_n, r_n, n\n",
    "\n",
    "prices = []\n",
    "step=1\n",
    "left, right = 600, 1000 #2000\n",
    "for n in tqdm(range(left, right, step)):\n",
    "    example_market = CRRMarket([100], *CRR_prep(T=1, n=n, sigma=0.1, r=0.1))\n",
    "    prices.append(example_market.S[0].calculate_call_option_value(example_market,example_market.T, 100))"
   ]
  },
  {
   "cell_type": "code",
   "execution_count": 170,
   "metadata": {},
   "outputs": [
    {
     "data": {
      "image/png": "[encoded data removed]",
      "text/plain": [
       "<Figure size 432x288 with 1 Axes>"
      ]
     },
     "metadata": {
      "needs_background": "light"
     },
     "output_type": "display_data"
    },
    {
     "data": {
      "image/png": "[encoded data removed]",
      "text/plain": [
       "<Figure size 432x288 with 1 Axes>"
      ]
     },
     "metadata": {
      "needs_background": "light"
     },
     "output_type": "display_data"
    }
   ],
   "source": [
    "plt.xlim(left, right)\n",
    "plt.plot([prices[0]]*left +prices)\n",
    "plt.hlines(c(100, 1, 100, 0.1, 0.1), xmin=0, xmax=right)\n",
    "plt.show()\n",
    "\n",
    "plt.xlim(left, right)\n",
    "plt.plot([prices[0]]*left + [(prices[i-1] +prices[i])/2 for i in range(1, len(prices))])\n",
    "plt.hlines(c(100, 1, 100, 0.1, 0.1), xmin=0, xmax=right)\n",
    "plt.show()"
   ]
  },
  {
   "cell_type": "markdown",
   "metadata": {},
   "source": [
    "## Zadanie 2"
   ]
  },
  {
   "cell_type": "code",
   "execution_count": 214,
   "metadata": {},
   "outputs": [],
   "source": [
    "args={\n",
    "    'n':1000, \n",
    "    'S_0':100, \n",
    "    'T':1, \n",
    "    'sigma':0.1, \n",
    "    'r':0.1, \n",
    "    'K':100\n",
    "}"
   ]
  },
  {
   "cell_type": "code",
   "execution_count": 257,
   "metadata": {},
   "outputs": [],
   "source": [
    "def update_mean(means, i, update_value):\n",
    "    if not means:\n",
    "        means.append(update_value)\n",
    "    else:\n",
    "        means.append(np.average([means[i-1], update_value], weights = [i, 1]))\n",
    "    return means\n",
    "\n",
    "def approximation(value_function, St_function, generated_normal_variables,  n, **kwargs):\n",
    "    means = []\n",
    "    for i in tqdm(range(0, n)):\n",
    "        value = value_function(St_function, generated_normal_variables[i], **kwargs)\n",
    "        means = update_mean(means, i, value)\n",
    "    return means\n",
    "\n",
    "def MC_approximation(St_function, Z, S_0, T, sigma, r, K):\n",
    "    St = St_function(Z, S_0, T, sigma, r)\n",
    "    return e ** (-r*T) * max(St - K, 0)\n",
    "\n",
    "def generate_single_S_T(Z, S_0, T, sigma, r):\n",
    "    return S_0*e**(sigma*sqrt(T)*Z + (r - sigma**2/2)*T)"
   ]
  },
  {
   "cell_type": "code",
   "execution_count": 258,
   "metadata": {},
   "outputs": [
    {
     "name": "stderr",
     "output_type": "stream",
     "text": [
      "100%|██████████| 1000/1000 [00:00<00:00, 37985.00it/s]\n"
     ]
    },
    {
     "data": {
      "text/plain": [
       "DescribeResult(nobs=1000, minmax=(0.0, 10.438608111609556), mean=9.333138292585007, variance=0.7030677953183073, skewness=-5.688921167209525, kurtosis=51.300499474428634)"
      ]
     },
     "execution_count": 258,
     "metadata": {},
     "output_type": "execute_result"
    }
   ],
   "source": [
    "mc= approximation(MC_approximation,  generate_single_S_T, np.random.normal(size=args['n']), **args)\n",
    "scipy.stats.describe(mc)"
   ]
  },
  {
   "cell_type": "markdown",
   "metadata": {},
   "source": [
    "(a) metoda zmiennych kontrolnych"
   ]
  },
  {
   "cell_type": "code",
   "execution_count": 267,
   "metadata": {},
   "outputs": [],
   "source": [
    "def control_variables(St_function, Z, S_0, T, sigma, r, K):\n",
    "    St = St_function(Z, S_0, T, sigma, r)\n",
    "    k = e ** (-r*T) * St\n",
    "    value = e ** (-r*T) * max(St-K, 0) - k + S_0\n",
    "    return value"
   ]
  },
  {
   "cell_type": "code",
   "execution_count": 259,
   "metadata": {},
   "outputs": [
    {
     "name": "stderr",
     "output_type": "stream",
     "text": [
      "100%|██████████| 1000/1000 [00:00<00:00, 34300.54it/s]\n"
     ]
    },
    {
     "data": {
      "text/plain": [
       "DescribeResult(nobs=1000, minmax=(9.516258196404038, 14.38982845649793), mean=10.405782791235607, variance=0.0403553551890729, skewness=10.361486470669242, kurtosis=176.90146088607423)"
      ]
     },
     "execution_count": 259,
     "metadata": {},
     "output_type": "execute_result"
    }
   ],
   "source": [
    "cw = approximation(control_variables,  generate_single_S_T, np.random.normal(size=args['n']), **args)\n",
    "scipy.stats.describe(cw)"
   ]
  },
  {
   "cell_type": "markdown",
   "metadata": {},
   "source": [
    "(b) metoda zmiennych kontrolnych w wersji turbo"
   ]
  },
  {
   "cell_type": "code",
   "execution_count": 13,
   "metadata": {},
   "outputs": [],
   "source": [
    "def control_variables_turbo(n, S_T, S_0, T, sigma, r, K):\n",
    "    means = []\n",
    "    values= []\n",
    "    X_mean = []\n",
    "    Y_mean = []\n",
    "    sum_covariances = 0\n",
    "    sum_variances= 0\n",
    "    b= 0\n",
    "    for i in tqdm(range(0, n)):\n",
    "        value = e ** (-r*T) * max(S_T[i]-K, 0)\n",
    "        if not means:\n",
    "            values.append(value)\n",
    "            means.append(value)\n",
    "            X_mean.append(value)\n",
    "            Y_mean.append(S_T[i])\n",
    "        else:\n",
    "            values.append(value)\n",
    "            X_mean.append(np.average([X_mean[i-1], value], weights = [i, 1]))\n",
    "            Y_mean.append(np.average([Y_mean[i-1], S_T[i]], weights = [i, 1]))\n",
    "            sum_covariances += (value - X_mean[i])*(S_T[i]- Y_mean[i]) \n",
    "            sum_variances += (S_T[i]- Y_mean[i]) **2\n",
    "            b_hat = sum_covariances/sum_variances\n",
    "            means.append(np.average([means[i-1], value-b_hat*S_T[i]], weights = [i, 1]))\n",
    "            b=b_hat\n",
    "    return [x + b*Y_mean[-1] for x in means]"
   ]
  },
  {
   "cell_type": "markdown",
   "metadata": {},
   "source": [
    "(c) metoda zmiennych antytetycznych"
   ]
  },
  {
   "cell_type": "code",
   "execution_count": 242,
   "metadata": {},
   "outputs": [],
   "source": [
    "def antitetic_variables(St_function, Z, S_0, T, sigma, r, K):\n",
    "    St = St_function(Z, S_0, T, sigma, r)\n",
    "    St_prim = St_function(-Z, S_0, T, sigma, r)\n",
    "    \n",
    "    value = e ** (-r*T) * max(St-K, 0)\n",
    "    value_prim = e ** (-r*T) * max(St_prim-K, 0)\n",
    "    \n",
    "    return (value + value_prim)/2"
   ]
  },
  {
   "cell_type": "code",
   "execution_count": 260,
   "metadata": {},
   "outputs": [
    {
     "name": "stderr",
     "output_type": "stream",
     "text": [
      "100%|██████████| 1000/1000 [00:00<00:00, 33450.33it/s]\n"
     ]
    },
    {
     "data": {
      "text/plain": [
       "DescribeResult(nobs=1000, minmax=(9.125266255144187, 10.963529232136064), mean=10.362799129401518, variance=0.017162718678272116, skewness=-4.823053611267922, kurtosis=50.416448867625355)"
      ]
     },
     "execution_count": 260,
     "metadata": {},
     "output_type": "execute_result"
    }
   ],
   "source": [
    "av = approximation(antitetic_variables,  generate_single_S_T, np.random.normal(size=args['n']), **args)\n",
    "scipy.stats.describe(av)"
   ]
  },
  {
   "cell_type": "markdown",
   "metadata": {},
   "source": [
    "(d) metoda warstwowania"
   ]
  },
  {
   "cell_type": "code",
   "execution_count": 261,
   "metadata": {},
   "outputs": [],
   "source": [
    "def generate_wiener_for_layer(n, T, i, k):\n",
    "    return [sqrt(T)* scipy.stats.norm.ppf(((i-1)+ np.random.uniform())/k) for j in range(0, n)]\n",
    "\n",
    "def generate_wiener_layers(N_vector, T):\n",
    "    layers = []\n",
    "    for i, n in enumerate(N_vector):\n",
    "        layers.append(generate_wiener_for_layer(n, T, i+1, len(N_vector)))\n",
    "    return layers\n",
    "\n",
    "def calculate_S_T(wiener_values, S_0, T, sigma, r):\n",
    "    return [S_0*e**(sigma*wiener_values[i] + (r - sigma**2/2)*T) for i in range(0, len(wiener_values))]"
   ]
  },
  {
   "cell_type": "code",
   "execution_count": 262,
   "metadata": {},
   "outputs": [],
   "source": [
    "def stratified_sampling(layers,n, S_0, T, sigma, r, K):\n",
    "    means = []\n",
    "    for wiener_values in tqdm(generate_wiener_layers(layers, T)):\n",
    "        layer_means = []\n",
    "        S_T = calculate_S_T(wiener_values, S_0, T, sigma, r)\n",
    "        for i in range(0, len(wiener_values)):\n",
    "            value = e ** (-r*T) * max(S_T[i]-K, 0)\n",
    "            if not layer_means:\n",
    "                layer_means.append(value)\n",
    "            else:\n",
    "                layer_means.append(np.average([layer_means[i-1],value], weights = [i, 1]))\n",
    "        means.append(layer_means)\n",
    "    return np.average(means, axis=0, weights=[x/len(layers) for x in layers])"
   ]
  },
  {
   "cell_type": "code",
   "execution_count": 250,
   "metadata": {},
   "outputs": [
    {
     "name": "stderr",
     "output_type": "stream",
     "text": [
      "100%|██████████| 100/100 [00:00<00:00, 485.07it/s]\n"
     ]
    },
    {
     "data": {
      "text/plain": [
       "DescribeResult(nobs=100, minmax=(10.253182600076377, 10.319014571243905), mean=10.310415262356459, variance=9.522586171604898e-05, skewness=-3.173467637441665, kurtosis=12.895731583785688)"
      ]
     },
     "execution_count": 250,
     "metadata": {},
     "output_type": "execute_result"
    }
   ],
   "source": [
    "scipy.stats.describe(stratified_sampling([100]*100 , **args))"
   ]
  },
  {
   "cell_type": "markdown",
   "metadata": {},
   "source": [
    "(e) metoda importance sampling"
   ]
  },
  {
   "cell_type": "code",
   "execution_count": 268,
   "metadata": {},
   "outputs": [],
   "source": [
    "def f_Wiener(Y, T):\n",
    "    return scipy.stats.norm.pdf(Y, scale=T)\n",
    "\n",
    "def f_Y(Y, mu, T):\n",
    "    return scipy.stats.norm.pdf(Y, loc=mu, scale=T)\n",
    "\n",
    "def importance_sampling(St_function, Z, S_0, T, sigma, r, K, mu):\n",
    "    Y = Z * T + mu\n",
    "    St = St_function(Y,S_0, T, sigma, r)\n",
    "    value =  e ** (-r*T) * max(St-K, 0) * (f_Wiener(Y,T)/f_Y(Y, mu, T))\n",
    "    return value"
   ]
  },
  {
   "cell_type": "code",
   "execution_count": 266,
   "metadata": {},
   "outputs": [
    {
     "name": "stderr",
     "output_type": "stream",
     "text": [
      "100%|██████████| 1000/1000 [00:00<00:00, 4623.85it/s]\n"
     ]
    },
    {
     "data": {
      "text/plain": [
       "DescribeResult(nobs=1000, minmax=(9.787330329879572, 12.107539584363558), mean=10.14362959051914, variance=0.11380428161255624, skewness=2.83260267051583, kurtosis=9.314766509656096)"
      ]
     },
     "execution_count": 266,
     "metadata": {},
     "output_type": "execute_result"
    }
   ],
   "source": [
    "import_sampl = approximation(importance_sampling, generate_single_S_T, np.random.normal(size=args['n']), **args, mu=0.5)\n",
    "scipy.stats.describe(import_sampl)"
   ]
  },
  {
   "cell_type": "code",
   "execution_count": 148,
   "metadata": {},
   "outputs": [
    {
     "name": "stderr",
     "output_type": "stream",
     "text": [
      "100%|██████████| 100000/100000 [00:21<00:00, 4737.34it/s]\n",
      "100%|██████████| 100000/100000 [00:20<00:00, 4817.38it/s]\n",
      "100%|██████████| 100000/100000 [00:20<00:00, 4764.06it/s]\n",
      "100%|██████████| 100000/100000 [00:20<00:00, 4914.41it/s]\n",
      "100%|██████████| 100000/100000 [00:20<00:00, 4871.53it/s]\n",
      "100%|██████████| 100000/100000 [00:20<00:00, 4833.41it/s]\n",
      "100%|██████████| 100000/100000 [00:20<00:00, 4840.94it/s]\n",
      "100%|██████████| 100000/100000 [00:20<00:00, 4782.45it/s]\n",
      "100%|██████████| 100000/100000 [00:21<00:00, 4607.14it/s]\n",
      "100%|██████████| 100000/100000 [00:23<00:00, 4290.23it/s]\n",
      "100%|██████████| 100000/100000 [00:21<00:00, 4678.24it/s]\n",
      "100%|██████████| 100000/100000 [00:20<00:00, 4848.13it/s]\n",
      "100%|██████████| 100000/100000 [00:20<00:00, 4856.32it/s]\n",
      "100%|██████████| 100000/100000 [00:21<00:00, 4585.03it/s]\n",
      "100%|██████████| 100000/100000 [00:21<00:00, 4593.19it/s]\n",
      "100%|██████████| 100000/100000 [00:21<00:00, 4653.75it/s]\n",
      "100%|██████████| 100000/100000 [00:21<00:00, 4597.96it/s]\n",
      "100%|██████████| 100000/100000 [00:21<00:00, 4566.72it/s]\n",
      "100%|██████████| 100000/100000 [00:21<00:00, 4686.69it/s]\n",
      "100%|██████████| 100000/100000 [00:22<00:00, 4500.24it/s]\n"
     ]
    },
    {
     "data": {
      "text/plain": [
       "[0.07520924377336209,\n",
       " 0.0374034874193673,\n",
       " 0.012792421518168203,\n",
       " 0.007917101769589234,\n",
       " 0.010620884453251739,\n",
       " 0.013109311777784162,\n",
       " 0.006548824501422702,\n",
       " 0.0028599794201027945,\n",
       " 0.003803054586925443,\n",
       " 0.002023744365376127,\n",
       " 0.0018502261482834224,\n",
       " 0.002113430718512918,\n",
       " 0.0024469545706534666,\n",
       " 0.005201339872968517,\n",
       " 0.002010197143618485,\n",
       " 0.005080690646068504,\n",
       " 0.0017815335900798527,\n",
       " 0.007101019162600878,\n",
       " 0.005344177994217243,\n",
       " 0.017523930721300644]"
      ]
     },
     "execution_count": 148,
     "metadata": {},
     "output_type": "execute_result"
    },
    {
     "data": {
      "image/png": "[encoded data removed]",
      "text/plain": [
       "<Figure size 432x288 with 1 Axes>"
      ]
     },
     "metadata": {
      "needs_background": "light"
     },
     "output_type": "display_data"
    }
   ],
   "source": [
    "w = [scipy.stats.describe(importance_sampling(mu=i, n=100000 , S_0=100, T=1, sigma=0.1, r = 0.1, K=100)).variance for i in np.linspace(-0.5, 1.5, 20)]\n",
    "plt.plot(w)\n",
    "w"
   ]
  },
  {
   "cell_type": "markdown",
   "metadata": {},
   "source": [
    "Na podstawie symulacji wybrano $\\mu = 0.5$ jako wartość najbardziej minimalizującą wariancję."
   ]
  },
  {
   "cell_type": "code",
   "execution_count": 14,
   "metadata": {},
   "outputs": [
    {
     "name": "stderr",
     "output_type": "stream",
     "text": [
      "100%|██████████| 100000/100000 [00:06<00:00, 14947.44it/s]\n"
     ]
    },
    {
     "data": {
      "text/plain": [
       "DescribeResult(nobs=100000, minmax=(6.8982358659506815, 93.28314752716159), mean=10.190279909368948, variance=0.12160503243561717, skewness=145.43521315300907, kurtosis=33270.13790122944)"
      ]
     },
     "execution_count": 14,
     "metadata": {},
     "output_type": "execute_result"
    }
   ],
   "source": [
    "scipy.stats.describe(control_variables_turbo(n=100000, S_T=S_T[0], S_0=100, T=1, sigma=0.1, r = 0.1, K=100))"
   ]
  },
  {
   "cell_type": "code",
   "execution_count": 10,
   "metadata": {},
   "outputs": [],
   "source": [
    "# def control_variables(n, S_T, S_0, T, sigma, r, K):\n",
    "#     means = []\n",
    "#     for i in tqdm(range(0, n)):\n",
    "#         k = e ** (-r*T) * S_T[i]\n",
    "#         value = e ** (-r*T) * max(S_T[i]-K, 0)\n",
    "#         if not means:\n",
    "#             means.append(value-k)\n",
    "#         else:\n",
    "#             means.append(np.average([means[i-1], value-k], weights = [i, 1]))\n",
    "#     return [x + S_0 for x in means]"
   ]
  },
  {
   "cell_type": "code",
   "execution_count": 6,
   "metadata": {},
   "outputs": [],
   "source": [
    "# n = 100000\n",
    "# number_of_vectors = 1\n",
    "# vectors = [generate_S_T_vectors(n=n, S_0=100, T=1, sigma=0.1, r = 0.1) for i in range(0, number_of_vectors)]\n",
    "# S_T = np.array([vectors[x][y][0] for x in range(0, number_of_vectors) for y in range(0,n)]).reshape(number_of_vectors, n)\n",
    "# S_T_prim = np.array([vectors[x][y][1] for x in range(0, number_of_vectors) for y in range(0,n)]).reshape(number_of_vectors, n)"
   ]
  },
  {
   "cell_type": "code",
   "execution_count": 333,
   "metadata": {},
   "outputs": [
    {
     "name": "stderr",
     "output_type": "stream",
     "text": [
      "100%|██████████| 100000/100000 [00:02<00:00, 49373.77it/s]\n",
      "100%|██████████| 100000/100000 [00:01<00:00, 50700.84it/s]\n",
      "100%|██████████| 100000/100000 [00:02<00:00, 45381.52it/s]\n",
      "100%|██████████| 100000/100000 [00:02<00:00, 49066.22it/s]\n",
      "100%|██████████| 100000/100000 [00:02<00:00, 49443.85it/s]\n"
     ]
    },
    {
     "data": {
      "image/png": "[encoded data removed]",
      "text/plain": [
       "<Figure size 432x288 with 1 Axes>"
      ]
     },
     "metadata": {
      "needs_background": "light"
     },
     "output_type": "display_data"
    }
   ],
   "source": [
    "# plt.xlim(10**3, 10**5)\n",
    "# plt.ylim(10, 10.5)\n",
    "# for i in range(0, 5):\n",
    "#     plt.plot(MC_approximation(n=100000, S_0=100, T=1, sigma=0.1, r = 0.1, K=100))\n",
    "# plt.show()"
   ]
  },
  {
   "cell_type": "code",
   "execution_count": 131,
   "metadata": {},
   "outputs": [
    {
     "name": "stderr",
     "output_type": "stream",
     "text": [
      "100%|██████████| 100/100 [00:00<00:00, 2995.70it/s]\n"
     ]
    }
   ],
   "source": [
    "w = scipy.stats.describe(importance_sampling(mu=0, n=100 , S_0=100, T=1, sigma=0.1, r = 0.1, K=100))"
   ]
  },
  {
   "cell_type": "markdown",
   "metadata": {},
   "source": [
    "## Zadanie 3"
   ]
  },
  {
   "cell_type": "code",
   "execution_count": null,
   "metadata": {},
   "outputs": [],
   "source": []
  },
  {
   "cell_type": "markdown",
   "metadata": {},
   "source": [
    "Potwierdzam samodzielność powyższej pracy oraz niekorzystanie przeze mnie z niedozwolonych źródeł. Stanisław Pawlak"
   ]
  }
 ],
 "metadata": {
  "kernelspec": {
   "display_name": "Python 3",
   "language": "python",
   "name": "python3"
  },
  "language_info": {
   "codemirror_mode": {
    "name": "ipython",
    "version": 3
   },
   "file_extension": ".py",
   "mimetype": "text/x-python",
   "name": "python",
   "nbconvert_exporter": "python",
   "pygments_lexer": "ipython3",
   "version": "3.6.9"
  }
 },
 "nbformat": 4,
 "nbformat_minor": 4
}
