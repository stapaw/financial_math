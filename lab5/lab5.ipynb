{
 "cells": [
  {
   "cell_type": "markdown",
   "metadata": {},
   "source": [
    "# MATEMATYKA FINANSOWA - Laboratorium 5\n",
    "Stanisław Pawlak"
   ]
  },
  {
   "cell_type": "code",
   "execution_count": 1,
   "metadata": {},
   "outputs": [],
   "source": [
    "import scipy.stats\n",
    "from scipy.stats import norm\n",
    "import numpy as np\n",
    "import pandas as pd\n",
    "import matplotlib.pyplot as plt\n",
    "from tqdm import tqdm\n",
    "from math import  e, sqrt, factorial, floor, log"
   ]
  },
  {
   "cell_type": "markdown",
   "metadata": {},
   "source": [
    "## Zadanie 1"
   ]
  },
  {
   "cell_type": "markdown",
   "metadata": {},
   "source": [
    "$ c(S_{0},T,K,\\sigma,r) :=S_{0}\\Phi(d_{+}(S_{0},T,K,\\sigma,r))− Ke^{−rT}\\Phi(d_{−}(S_{0},T,K,\\sigma,r)),$\n",
    "\n",
    "gdzie $\\Phi$ jest dystrybuantą rozkładu $N(0,1)$ oraz \n",
    "\n",
    "$ d_{±}(S_{0},T,K,\\sigma,r) :=\\frac{log \\frac{S_{0}}{K} + (r± \\frac{\\sigma^{2}}{2})T}{\\sigma \\sqrt{T}}.$\n",
    "\n",
    "Zauważmy też, że $d_{+}() = d_{-}() - \\sigma \\sqrt{T}$"
   ]
  },
  {
   "cell_type": "code",
   "execution_count": 2,
   "metadata": {},
   "outputs": [
    {
     "data": {
      "text/plain": [
       "10.308150925634422"
      ]
     },
     "execution_count": 2,
     "metadata": {},
     "output_type": "execute_result"
    }
   ],
   "source": [
    "def d1(S0, T, K, sigma, r):\n",
    "    return (log(S0/K) + (r + sigma**2 /2)*T)/(sigma*sqrt(T))\n",
    "\n",
    "def d2(S0, T, K, sigma, r):\n",
    "    return d1(S0, T, K, sigma, r) -  sigma*sqrt(T)\n",
    "\n",
    "def BS_price(S0, T, K, sigma, r):\n",
    "    return S0* norm.cdf(d1(S0, T, K, sigma, r)) - K*e**(-r*T)*norm.cdf(d2(S0, T, K, sigma, r))\n",
    "\n",
    "BS_price(100, 1, 100, 0.1, 0.1)"
   ]
  },
  {
   "cell_type": "markdown",
   "metadata": {},
   "source": [
    "Implementacja Modelu CRR:"
   ]
  },
  {
   "cell_type": "code",
   "execution_count": 3,
   "metadata": {},
   "outputs": [
    {
     "data": {
      "text/html": [
       "\n",
       "        <script>\n",
       "            function code_toggle_13537515596445438932() {\n",
       "                $('div.cell.code_cell.rendered.selected').find('div.input').toggle();\n",
       "            }\n",
       "\n",
       "            \n",
       "        </script>\n",
       "\n",
       "        <a href=\"javascript:code_toggle_13537515596445438932()\">Toggle show/hide</a>\n",
       "    "
      ],
      "text/plain": [
       "<IPython.core.display.HTML object>"
      ]
     },
     "execution_count": 3,
     "metadata": {},
     "output_type": "execute_result"
    }
   ],
   "source": [
    "from IPython.display import HTML\n",
    "import random\n",
    "\n",
    "def hide_toggle(for_next=False):\n",
    "    this_cell = \"\"\"$('div.cell.code_cell.rendered.selected')\"\"\"\n",
    "    next_cell = this_cell + '.next()'\n",
    "\n",
    "    toggle_text = 'Toggle show/hide'  # text shown on toggle link\n",
    "    target_cell = this_cell  # target cell to control with toggle\n",
    "    js_hide_current = ''  # bit of JS to permanently hide code in current cell (only when toggling next cell)\n",
    "\n",
    "    if for_next:\n",
    "        target_cell = next_cell\n",
    "        toggle_text += ' next cell'\n",
    "        js_hide_current = this_cell + '.find(\"div.input\").hide();'\n",
    "\n",
    "    js_f_name = 'code_toggle_{}'.format(str(random.randint(1,2**64)))\n",
    "\n",
    "    html = \"\"\"\n",
    "        <script>\n",
    "            function {f_name}() {{\n",
    "                {cell_selector}.find('div.input').toggle();\n",
    "            }}\n",
    "\n",
    "            {js_hide_current}\n",
    "        </script>\n",
    "\n",
    "        <a href=\"javascript:{f_name}()\">{toggle_text}</a>\n",
    "    \"\"\".format(\n",
    "        f_name=js_f_name,\n",
    "        cell_selector=target_cell,\n",
    "        js_hide_current=js_hide_current, \n",
    "        toggle_text=toggle_text\n",
    "    )\n",
    "\n",
    "    return HTML(html)\n",
    "hide_toggle()\n"
   ]
  },
  {
   "cell_type": "code",
   "execution_count": 4,
   "metadata": {},
   "outputs": [
    {
     "data": {
      "text/html": [
       "\n",
       "        <script>\n",
       "            function code_toggle_14160988334010127300() {\n",
       "                $('div.cell.code_cell.rendered.selected').find('div.input').toggle();\n",
       "            }\n",
       "\n",
       "            \n",
       "        </script>\n",
       "\n",
       "        <a href=\"javascript:code_toggle_14160988334010127300()\">Toggle show/hide</a>\n",
       "    "
      ],
      "text/plain": [
       "<IPython.core.display.HTML object>"
      ]
     },
     "execution_count": 4,
     "metadata": {},
     "output_type": "execute_result"
    }
   ],
   "source": [
    "class BankAccount:\n",
    "    def __init__(self, r):\n",
    "        self.r = r\n",
    "\n",
    "    def get_bank_account_value(self, t):\n",
    "        return (1 + self.r) ** t\n",
    "\n",
    "\n",
    "class MarketInstrument:\n",
    "    def __init__(self, S_0):\n",
    "        self.S_0 = S_0\n",
    "\n",
    "    def calculate_call_option_value(self, market, T, K):\n",
    "        return self._calculate_option_value(self.get_call_option_value, market, T, K)\n",
    "        \n",
    "    def calculate_put_option_value(self, market, T, K):\n",
    "        return self._calculate_option_value(self.get_put_option_value, market, T, K)\n",
    "\n",
    "    def _calculate_option_value(self, option_func_type, market, t, K):\n",
    "        prices = [option_func_type(t, t-j, market.d, market.u, K) for j in range(0, t+1)]\n",
    "        return self._get_value(t, prices, market.d, market.u, market.r, market.p)\n",
    "    \n",
    "    def _get_value(self, t, prices, d, u,r, p):\n",
    "        if t == 0:\n",
    "            return prices[0]\n",
    "        else:\n",
    "            for i in range(0, t):\n",
    "                prices[i] =1/(1+r)*(p*prices[i] + (1-p)*prices[i+1])\n",
    "            #print(prices[:t])\n",
    "            return self._get_value(t-1, prices, d, u,r,  p)\n",
    "\n",
    "    \n",
    "    def get_call_option_value(self, t, j, d, u, K):\n",
    "        return max(self.S_0 * u ** j * d ** (t - j) - K, 0)\n",
    "    \n",
    "    def get_put_option_value(self, t, j, d, u, K):\n",
    "        return max(K - self.S_0 * u ** j * d ** (t - j), 0)\n",
    "\n",
    "hide_toggle()"
   ]
  },
  {
   "cell_type": "code",
   "execution_count": 5,
   "metadata": {},
   "outputs": [
    {
     "data": {
      "text/html": [
       "\n",
       "        <script>\n",
       "            function code_toggle_1541994031210856600() {\n",
       "                $('div.cell.code_cell.rendered.selected').find('div.input').toggle();\n",
       "            }\n",
       "\n",
       "            \n",
       "        </script>\n",
       "\n",
       "        <a href=\"javascript:code_toggle_1541994031210856600()\">Toggle show/hide</a>\n",
       "    "
      ],
      "text/plain": [
       "<IPython.core.display.HTML object>"
      ]
     },
     "execution_count": 5,
     "metadata": {},
     "output_type": "execute_result"
    }
   ],
   "source": [
    "class CRRMarket:\n",
    "    def __init__(self, S_0_values, d, u, r, T):\n",
    "        self.B = BankAccount(r)\n",
    "        self.p = (1 + r - d) / (u - d)\n",
    "        self.S = [MarketInstrument(S_0_values[i]) for i in range(0, len(S_0_values))]\n",
    "        self.d = d\n",
    "        self.u = u\n",
    "        self.r = r\n",
    "        self.T = T\n",
    "    \n",
    "    def calculate_call_options_values(self, T, K):\n",
    "        return [s.calculate_call_option_value(self, T, K[i]) for i, s in enumerate(self.S)]\n",
    "    \n",
    "    def calculate_put_options_values(self, T, K):\n",
    "        return [s.calculate_put_option_value(self, T, K[i]) for i, s in enumerate(self.S)]\n",
    "    \n",
    "hide_toggle()"
   ]
  },
  {
   "cell_type": "code",
   "execution_count": 6,
   "metadata": {},
   "outputs": [
    {
     "data": {
      "text/html": [
       "\n",
       "        <script>\n",
       "            function code_toggle_9553551718089636095() {\n",
       "                $('div.cell.code_cell.rendered.selected').find('div.input').toggle();\n",
       "            }\n",
       "\n",
       "            \n",
       "        </script>\n",
       "\n",
       "        <a href=\"javascript:code_toggle_9553551718089636095()\">Toggle show/hide</a>\n",
       "    "
      ],
      "text/plain": [
       "<IPython.core.display.HTML object>"
      ]
     },
     "execution_count": 6,
     "metadata": {},
     "output_type": "execute_result"
    }
   ],
   "source": [
    "import scipy.special\n",
    "def calculate_option_value_theory(option_func_type, market, t, K):\n",
    "        scaling_value = 1 / market.B.get_bank_account_value(t)\n",
    "        sum = 0\n",
    "        for j in range(0, t+1):\n",
    "            sum += scipy.special.comb(t, j, exact=True) * market.p ** j * (1 - market.p) ** (t - j) * option_func_type(t, j, market.d, market.u, K)\n",
    "        return sum * scaling_value\n",
    "hide_toggle()"
   ]
  },
  {
   "cell_type": "code",
   "execution_count": 7,
   "metadata": {},
   "outputs": [
    {
     "name": "stderr",
     "output_type": "stream",
     "text": [
      "100%|██████████| 400/400 [00:28<00:00, 14.06it/s]\n"
     ]
    }
   ],
   "source": [
    "def CRR_prep(T, n, sigma, r):\n",
    "    r_n = r * T/n\n",
    "    a_n = sigma * sqrt(T/n)\n",
    "    u_n = e** (a_n) * (1+r_n)\n",
    "    d_n = e** (-a_n) * (1+r_n)\n",
    "    return d_n, u_n, r_n, n\n",
    "\n",
    "prices = []\n",
    "step=1\n",
    "left, right = 600, 1000 #2000\n",
    "for n in tqdm(range(left, right, step)):\n",
    "    example_market = CRRMarket([100], *CRR_prep(T=1, n=n, sigma=0.1, r=0.1))\n",
    "    prices.append(example_market.S[0].calculate_call_option_value(example_market,example_market.T, 100))"
   ]
  },
  {
   "cell_type": "code",
   "execution_count": 11,
   "metadata": {},
   "outputs": [
    {
     "data": {
      "image/png": "[encoded data removed]",
      "text/plain": [
       "<Figure size 432x288 with 1 Axes>"
      ]
     },
     "metadata": {
      "needs_background": "light"
     },
     "output_type": "display_data"
    },
    {
     "data": {
      "image/png": "[encoded data removed]",
      "text/plain": [
       "<Figure size 432x288 with 1 Axes>"
      ]
     },
     "metadata": {
      "needs_background": "light"
     },
     "output_type": "display_data"
    }
   ],
   "source": [
    "plt.xlim(left, right)\n",
    "plt.plot([prices[0]]*left +prices)\n",
    "plt.hlines(BS_price(100, 1, 100, 0.1, 0.1), xmin=0, xmax=right)\n",
    "plt.show()\n",
    "\n",
    "plt.xlim(left, right)\n",
    "plt.plot([prices[0]]*left + [(prices[i-1] +prices[i])/2 for i in range(1, len(prices))])\n",
    "plt.hlines(BS_price(100, 1, 100, 0.1, 0.1), xmin=0, xmax=right)\n",
    "plt.show()"
   ]
  },
  {
   "cell_type": "markdown",
   "metadata": {},
   "source": [
    "## Zadanie 2"
   ]
  },
  {
   "cell_type": "code",
   "execution_count": 12,
   "metadata": {},
   "outputs": [],
   "source": [
    "args={\n",
    "    'n':10000, \n",
    "    'S_0':100, \n",
    "    'T':1, \n",
    "    'sigma':0.1, \n",
    "    'r':0.1, \n",
    "    'K':100\n",
    "}"
   ]
  },
  {
   "cell_type": "code",
   "execution_count": 13,
   "metadata": {},
   "outputs": [],
   "source": [
    "def update_mean(means, i, update_value):\n",
    "    if not means:\n",
    "        means.append(update_value)\n",
    "    else:\n",
    "        means.append(np.average([means[i-1], update_value], weights = [i, 1]))\n",
    "    return means\n",
    "\n",
    "def approximation(value_function, St_function, generated_normal_variables,  n, **kwargs):\n",
    "    means = []\n",
    "    for i in tqdm(range(0, n)):\n",
    "        value = value_function(St_function, generated_normal_variables[i], **kwargs)\n",
    "        means = update_mean(means, i, value)\n",
    "    return means\n",
    "\n",
    "def MC_approximation(St_function, Z, S_0, T, sigma, r, K):\n",
    "    St = St_function(Z, S_0, T, sigma, r)\n",
    "    return e ** (-r*T) * max(St - K, 0)\n",
    "\n",
    "def generate_single_S_T(Z, S_0, T, sigma, r):\n",
    "    return S_0*e**(sigma*sqrt(T)*Z + (r - sigma**2/2)*T)"
   ]
  },
  {
   "cell_type": "code",
   "execution_count": 14,
   "metadata": {},
   "outputs": [
    {
     "name": "stderr",
     "output_type": "stream",
     "text": [
      "100%|██████████| 10000/10000 [00:00<00:00, 39776.23it/s]\n"
     ]
    },
    {
     "data": {
      "text/plain": [
       "DescribeResult(nobs=10000, minmax=(9.4675259297363, 17.00350901374814), mean=10.45451095436858, variance=0.04037826938896139, skewness=17.454860748607473, kurtosis=470.5075907275655)"
      ]
     },
     "execution_count": 14,
     "metadata": {},
     "output_type": "execute_result"
    }
   ],
   "source": [
    "mc= approximation(MC_approximation,  generate_single_S_T, np.random.normal(size=args['n']), **args)\n",
    "scipy.stats.describe(mc)"
   ]
  },
  {
   "cell_type": "markdown",
   "metadata": {},
   "source": [
    "(a) metoda zmiennych kontrolnych"
   ]
  },
  {
   "cell_type": "code",
   "execution_count": 63,
   "metadata": {},
   "outputs": [],
   "source": [
    "def control_variates(St_function, Z, S_0, T, sigma, r, K):\n",
    "    St = St_function(Z, S_0, T, sigma, r)\n",
    "    k = e ** (-r*T) * St\n",
    "    value = e ** (-r*T) * max(St-K, 0) - k + S_0\n",
    "    return value"
   ]
  },
  {
   "cell_type": "code",
   "execution_count": 64,
   "metadata": {},
   "outputs": [
    {
     "name": "stderr",
     "output_type": "stream",
     "text": [
      "100%|██████████| 10000/10000 [00:00<00:00, 35404.53it/s]\n"
     ]
    },
    {
     "data": {
      "text/plain": [
       "DescribeResult(nobs=10000, minmax=(9.516258196404044, 10.44439500986751), mean=10.290024133002943, variance=0.003612498072098288, skewness=-3.3986166662039525, kurtosis=24.833942497447218)"
      ]
     },
     "execution_count": 64,
     "metadata": {},
     "output_type": "execute_result"
    }
   ],
   "source": [
    "cw = approximation(control_variates,  generate_single_S_T, np.random.normal(size=args['n']), **args)\n",
    "scipy.stats.describe(cw)"
   ]
  },
  {
   "cell_type": "markdown",
   "metadata": {},
   "source": [
    "(b) metoda zmiennych kontrolnych w wersji turbo"
   ]
  },
  {
   "cell_type": "code",
   "execution_count": 31,
   "metadata": {},
   "outputs": [],
   "source": [
    "def generate_S_T_vector(generated_normal_variables, n,K, **kwargs):\n",
    "    return [generate_single_S_T(generated_normal_variables[i], **kwargs) for i in range(0, n)]"
   ]
  },
  {
   "cell_type": "code",
   "execution_count": 61,
   "metadata": {},
   "outputs": [],
   "source": [
    "def control_variates_turbo(generated_normal_variables,n, S_0, T, sigma, r, K):\n",
    "    means = []\n",
    "    values= []\n",
    "    X_mean = []\n",
    "    Y_mean = []\n",
    "    sum_covariances = 0\n",
    "    sum_variances= 0\n",
    "    b= 0\n",
    "    S_T = generate_S_T_vector(generated_normal_variables, n, **{'S_0':S_0, 'T':T, 'sigma':sigma, 'r':r, 'K':K})\n",
    "    for i in tqdm(range(0, n)):\n",
    "        value = e ** (-r*T) * max(S_T[i]-K, 0)\n",
    "        if not means:\n",
    "            values.append(value)\n",
    "            means.append(value)\n",
    "            X_mean.append(value)\n",
    "            Y_mean.append(S_T[i])\n",
    "        else:\n",
    "            values.append(value)\n",
    "            X_mean.append(np.average([X_mean[i-1], value], weights = [i, 1]))\n",
    "            Y_mean.append(np.average([Y_mean[i-1], S_T[i]], weights = [i, 1]))\n",
    "            sum_covariances = sum((values[j] - X_mean[i])*(S_T[j]- Y_mean[i]) for j in range(0, i))\n",
    "            sum_variances = sum((S_T[j]- Y_mean[i]) **2 for j in range(0, i))\n",
    "            b_hat = sum_covariances/sum_variances\n",
    "            means.append(np.average([means[i-1], value-b_hat*S_T[i]], weights = [i, 1]))\n",
    "            b=b_hat\n",
    "    return [x + b*Y_mean[-1] for x in means]"
   ]
  },
  {
   "cell_type": "code",
   "execution_count": 62,
   "metadata": {},
   "outputs": [
    {
     "name": "stderr",
     "output_type": "stream",
     "text": [
      "100%|██████████| 10000/10000 [00:38<00:00, 258.94it/s]\n"
     ]
    },
    {
     "data": {
      "text/plain": [
       "DescribeResult(nobs=10000, minmax=(2.7994041525295614, 93.77873353748278), mean=10.902726444195546, variance=1.1522207151732027, skewness=49.11156459662749, kurtosis=3665.283137122287)"
      ]
     },
     "execution_count": 62,
     "metadata": {},
     "output_type": "execute_result"
    }
   ],
   "source": [
    "cvt = control_variates_turbo(np.random.normal(size=args['n']), **args)\n",
    "scipy.stats.describe(cvt)"
   ]
  },
  {
   "cell_type": "markdown",
   "metadata": {},
   "source": [
    "(c) metoda zmiennych antytetycznych"
   ]
  },
  {
   "cell_type": "code",
   "execution_count": 65,
   "metadata": {},
   "outputs": [],
   "source": [
    "def antitetic_variates(St_function, Z, S_0, T, sigma, r, K):\n",
    "    St = St_function(Z, S_0, T, sigma, r)\n",
    "    St_prim = St_function(-Z, S_0, T, sigma, r)\n",
    "    \n",
    "    value = e ** (-r*T) * max(St-K, 0)\n",
    "    value_prim = e ** (-r*T) * max(St_prim-K, 0)\n",
    "    \n",
    "    return (value + value_prim)/2"
   ]
  },
  {
   "cell_type": "code",
   "execution_count": 66,
   "metadata": {},
   "outputs": [
    {
     "name": "stderr",
     "output_type": "stream",
     "text": [
      "100%|██████████| 10000/10000 [00:00<00:00, 34781.64it/s]\n"
     ]
    },
    {
     "data": {
      "text/plain": [
       "DescribeResult(nobs=10000, minmax=(9.019562090231442, 12.664147748309512), mean=10.355358845175974, variance=0.0026533681873982247, skewness=11.632441823878855, kurtosis=630.9518690569898)"
      ]
     },
     "execution_count": 66,
     "metadata": {},
     "output_type": "execute_result"
    }
   ],
   "source": [
    "av = approximation(antitetic_variates,  generate_single_S_T, np.random.normal(size=args['n']), **args)\n",
    "scipy.stats.describe(av)"
   ]
  },
  {
   "cell_type": "markdown",
   "metadata": {},
   "source": [
    "(d) metoda warstwowania"
   ]
  },
  {
   "cell_type": "code",
   "execution_count": 20,
   "metadata": {},
   "outputs": [],
   "source": [
    "def generate_wiener_for_layer(n, T, i, k):\n",
    "    return [sqrt(T)* scipy.stats.norm.ppf(((i-1)+ np.random.uniform())/k) for j in range(0, n)]\n",
    "\n",
    "def generate_wiener_layers(N_vector, T):\n",
    "    layers = []\n",
    "    for i, n in enumerate(N_vector):\n",
    "        layers.append(generate_wiener_for_layer(n, T, i+1, len(N_vector)))\n",
    "    return layers\n",
    "\n",
    "def calculate_S_T(wiener_values, S_0, T, sigma, r):\n",
    "    return [S_0*e**(sigma*wiener_values[i] + (r - sigma**2/2)*T) for i in range(0, len(wiener_values))]"
   ]
  },
  {
   "cell_type": "code",
   "execution_count": 76,
   "metadata": {},
   "outputs": [],
   "source": [
    "def stratified_sampling(layers,n, S_0, T, sigma, r, K):\n",
    "    means = []\n",
    "    for wiener_values in tqdm(generate_wiener_layers(layers, T)):\n",
    "        layer_means = []\n",
    "        S_T = calculate_S_T(wiener_values, S_0, T, sigma, r)\n",
    "        for i in range(0, len(wiener_values)):\n",
    "            value = e ** (-r*T) * max(S_T[i]-K, 0)\n",
    "            if not layer_means:\n",
    "                layer_means.append(value)\n",
    "            else:\n",
    "                layer_means.append(np.average([layer_means[i-1],value], weights = [i, 1]))\n",
    "        means.append(layer_means)\n",
    "    return np.average(means, axis=0, weights=[x/len(layers) for x in layers])"
   ]
  },
  {
   "cell_type": "code",
   "execution_count": 77,
   "metadata": {},
   "outputs": [
    {
     "name": "stderr",
     "output_type": "stream",
     "text": [
      "100%|██████████| 100/100 [00:00<00:00, 440.41it/s]\n"
     ]
    },
    {
     "data": {
      "text/plain": [
       "DescribeResult(nobs=100, minmax=(10.246676230507074, 10.311680126985125), mean=10.301223275143816, variance=7.540441804067788e-05, skewness=-3.8181287096435885, kurtosis=19.505909771262765)"
      ]
     },
     "execution_count": 77,
     "metadata": {},
     "output_type": "execute_result"
    }
   ],
   "source": [
    "scipy.stats.describe(stratified_sampling([100]*100 , **args))"
   ]
  },
  {
   "cell_type": "markdown",
   "metadata": {},
   "source": [
    "(e) metoda importance sampling"
   ]
  },
  {
   "cell_type": "code",
   "execution_count": 23,
   "metadata": {},
   "outputs": [],
   "source": [
    "def f_Wiener(Y, T):\n",
    "    return scipy.stats.norm.pdf(Y, scale=T)\n",
    "\n",
    "def f_Y(Y, mu, T):\n",
    "    return scipy.stats.norm.pdf(Y, loc=mu, scale=T)\n",
    "\n",
    "def importance_sampling(St_function, Z, S_0, T, sigma, r, K, mu):\n",
    "    Y = Z * T + mu\n",
    "    St = St_function(Y,S_0, T, sigma, r)\n",
    "    value =  e ** (-r*T) * max(St-K, 0) * (f_Wiener(Y,T)/f_Y(Y, mu, T))\n",
    "    return value"
   ]
  },
  {
   "cell_type": "code",
   "execution_count": 24,
   "metadata": {},
   "outputs": [
    {
     "name": "stderr",
     "output_type": "stream",
     "text": [
      "100%|██████████| 10000/10000 [00:02<00:00, 4306.58it/s]\n"
     ]
    },
    {
     "data": {
      "text/plain": [
       "DescribeResult(nobs=10000, minmax=(6.3078418817449995, 12.615683763489999), mean=10.287361829675007, variance=0.014308439054865191, skewness=0.7615665790729493, kurtosis=167.5428084251179)"
      ]
     },
     "execution_count": 24,
     "metadata": {},
     "output_type": "execute_result"
    }
   ],
   "source": [
    "import_sampl = approximation(importance_sampling, generate_single_S_T, np.random.normal(size=args['n']), **args, mu=0.5)\n",
    "scipy.stats.describe(import_sampl)"
   ]
  },
  {
   "cell_type": "code",
   "execution_count": 29,
   "metadata": {},
   "outputs": [
    {
     "name": "stderr",
     "output_type": "stream",
     "text": [
      "100%|██████████| 10000/10000 [00:02<00:00, 4019.06it/s]\n",
      "100%|██████████| 10000/10000 [00:02<00:00, 3665.05it/s]\n",
      "100%|██████████| 10000/10000 [00:02<00:00, 3724.87it/s]\n",
      "100%|██████████| 10000/10000 [00:02<00:00, 3685.09it/s]\n",
      "100%|██████████| 10000/10000 [00:02<00:00, 4049.47it/s]\n",
      "100%|██████████| 10000/10000 [00:02<00:00, 4048.82it/s]\n",
      "100%|██████████| 10000/10000 [00:02<00:00, 3741.39it/s]\n",
      "100%|██████████| 10000/10000 [00:02<00:00, 3990.51it/s]\n",
      "100%|██████████| 10000/10000 [00:02<00:00, 3824.85it/s]\n"
     ]
    }
   ],
   "source": [
    "w = [scipy.stats.describe(approximation(importance_sampling, generate_single_S_T, np.random.normal(size=args['n']), **args, mu=i)).variance for i in np.linspace(-0.5, 2.5, 9)]"
   ]
  },
  {
   "cell_type": "code",
   "execution_count": 30,
   "metadata": {},
   "outputs": [
    {
     "data": {
      "text/plain": [
       "[0.11052248434038056,\n",
       " 0.1062924731693718,\n",
       " 0.01612433002024737,\n",
       " 0.01354677762744305,\n",
       " 0.015617846313814436,\n",
       " 0.014593484725239383,\n",
       " 0.08057007450408511,\n",
       " 0.4676333578540601,\n",
       " 0.5803810814799844]"
      ]
     },
     "execution_count": 30,
     "metadata": {},
     "output_type": "execute_result"
    },
    {
     "data": {
      "image/png": "[encoded data removed]",
      "text/plain": [
       "<Figure size 432x288 with 1 Axes>"
      ]
     },
     "metadata": {
      "needs_background": "light"
     },
     "output_type": "display_data"
    }
   ],
   "source": [
    "plt.plot(np.linspace(-1.5, 2.5, 9), w)\n",
    "plt.xticks(np.linspace(-1.5, 2.5, 9))\n",
    "w"
   ]
  },
  {
   "cell_type": "markdown",
   "metadata": {},
   "source": [
    "Na podstawie symulacji wybrano $\\mu = 0.5$ jako wartość najbardziej minimalizującą wariancję."
   ]
  },
  {
   "cell_type": "code",
   "execution_count": 78,
   "metadata": {},
   "outputs": [
    {
     "name": "stderr",
     "output_type": "stream",
     "text": [
      "100%|██████████| 10000/10000 [00:00<00:00, 41787.34it/s]\n",
      "100%|██████████| 10000/10000 [00:00<00:00, 41281.02it/s]\n",
      "100%|██████████| 10000/10000 [00:37<00:00, 264.58it/s]\n",
      "100%|██████████| 10000/10000 [00:00<00:00, 36949.34it/s]\n",
      "100%|██████████| 10000/10000 [00:02<00:00, 4681.38it/s]\n",
      "100%|██████████| 10/10 [00:00<00:00, 438.51it/s]\n"
     ]
    }
   ],
   "source": [
    "mc= approximation(MC_approximation,  generate_single_S_T, np.random.normal(size=args['n']), **args)\n",
    "cv = approximation(control_variates,  generate_single_S_T, np.random.normal(size=args['n']), **args)\n",
    "cvt = control_variates_turbo(np.random.normal(size=args['n']), **args)\n",
    "av = approximation(antitetic_variates,  generate_single_S_T, np.random.normal(size=args['n']), **args)\n",
    "import_sampling = approximation(importance_sampling, generate_single_S_T, np.random.normal(size=args['n']), **args, mu=0.5)\n",
    "stratified_sampl = stratified_sampling([100]*10 , **args)"
   ]
  },
  {
   "cell_type": "code",
   "execution_count": 79,
   "metadata": {},
   "outputs": [
    {
     "data": {
      "text/html": [
       "<div>\n",
       "<style scoped>\n",
       "    .dataframe tbody tr th:only-of-type {\n",
       "        vertical-align: middle;\n",
       "    }\n",
       "\n",
       "    .dataframe tbody tr th {\n",
       "        vertical-align: top;\n",
       "    }\n",
       "\n",
       "    .dataframe thead th {\n",
       "        text-align: right;\n",
       "    }\n",
       "</style>\n",
       "<table border=\"1\" class=\"dataframe\">\n",
       "  <thead>\n",
       "    <tr style=\"text-align: right;\">\n",
       "      <th></th>\n",
       "      <th>mean</th>\n",
       "      <th>var</th>\n",
       "      <th>min</th>\n",
       "      <th>max</th>\n",
       "    </tr>\n",
       "  </thead>\n",
       "  <tbody>\n",
       "    <tr>\n",
       "      <th>MC</th>\n",
       "      <td>10.178871</td>\n",
       "      <td>0.017858</td>\n",
       "      <td>5.382434</td>\n",
       "      <td>11.138809</td>\n",
       "    </tr>\n",
       "    <tr>\n",
       "      <th>Control Variates</th>\n",
       "      <td>10.315122</td>\n",
       "      <td>0.002326</td>\n",
       "      <td>9.516258</td>\n",
       "      <td>10.370976</td>\n",
       "    </tr>\n",
       "    <tr>\n",
       "      <th>Control Variates Turbo</th>\n",
       "      <td>10.289407</td>\n",
       "      <td>1.719230</td>\n",
       "      <td>1.469371</td>\n",
       "      <td>112.134249</td>\n",
       "    </tr>\n",
       "    <tr>\n",
       "      <th>Antitetic Variates</th>\n",
       "      <td>10.288796</td>\n",
       "      <td>0.002334</td>\n",
       "      <td>9.224269</td>\n",
       "      <td>10.326525</td>\n",
       "    </tr>\n",
       "    <tr>\n",
       "      <th>Importance Sampling</th>\n",
       "      <td>10.362961</td>\n",
       "      <td>0.010016</td>\n",
       "      <td>10.159484</td>\n",
       "      <td>13.453124</td>\n",
       "    </tr>\n",
       "    <tr>\n",
       "      <th>Stratified sampling</th>\n",
       "      <td>10.359384</td>\n",
       "      <td>0.010037</td>\n",
       "      <td>9.645293</td>\n",
       "      <td>10.680574</td>\n",
       "    </tr>\n",
       "  </tbody>\n",
       "</table>\n",
       "</div>"
      ],
      "text/plain": [
       "                             mean       var        min         max\n",
       "MC                      10.178871  0.017858   5.382434   11.138809\n",
       "Control Variates        10.315122  0.002326   9.516258   10.370976\n",
       "Control Variates Turbo  10.289407  1.719230   1.469371  112.134249\n",
       "Antitetic Variates      10.288796  0.002334   9.224269   10.326525\n",
       "Importance Sampling     10.362961  0.010016  10.159484   13.453124\n",
       "Stratified sampling     10.359384  0.010037   9.645293   10.680574"
      ]
     },
     "execution_count": 79,
     "metadata": {},
     "output_type": "execute_result"
    }
   ],
   "source": [
    "\n",
    "metrices = {\n",
    "            'mean':lambda x: x.mean,\n",
    "            'var': lambda x: x.variance,\n",
    "            'min': lambda x: x.minmax[0],\n",
    "            'max': lambda x: x.minmax[1],\n",
    "           }\n",
    "\n",
    "methods = {\n",
    "        'MC': mc,\n",
    "        'Control Variates' : cv,\n",
    "        'Control Variates Turbo': cvt,\n",
    "        'Antitetic Variates': av,\n",
    "        'Importance Sampling': import_sampling,\n",
    "        'Stratified sampling': stratified_sampl\n",
    "         }\n",
    "\n",
    "df = pd.DataFrame()\n",
    "for method_key, method in methods.items():\n",
    "    for metric_key, metric in metrices.items():\n",
    "        df.loc[method_key, metric_key] = metric(scipy.stats.describe(method))\n",
    "df\n"
   ]
  },
  {
   "cell_type": "markdown",
   "metadata": {},
   "source": [
    "Metoda warstwowania powoduje skrócony wektor, dlatego, nie będzie widoczna na wizualizacji. Wizualizacja ze względów czasowych jedynie dla n=1000000 dla 4 metod."
   ]
  },
  {
   "cell_type": "code",
   "execution_count": 80,
   "metadata": {},
   "outputs": [
    {
     "name": "stderr",
     "output_type": "stream",
     "text": [
      "100%|██████████| 1000000/1000000 [00:25<00:00, 39875.56it/s]\n",
      "100%|██████████| 1000000/1000000 [00:25<00:00, 38852.62it/s]\n",
      "100%|██████████| 1000000/1000000 [00:27<00:00, 36503.96it/s]\n",
      "100%|██████████| 1000000/1000000 [03:35<00:00, 4638.55it/s]\n"
     ]
    }
   ],
   "source": [
    "args['n']=1000000\n",
    "random_normal = np.random.normal(size=args['n'])\n",
    "mc= approximation(MC_approximation,  generate_single_S_T, random_normal, **args)\n",
    "cv = approximation(control_variates,  generate_single_S_T, random_normal, **args)\n",
    "av = approximation(antitetic_variates,  generate_single_S_T, random_normal, **args)\n",
    "import_sampling = approximation(importance_sampling, generate_single_S_T, random_normal, **args, mu=0.5)"
   ]
  },
  {
   "cell_type": "code",
   "execution_count": 81,
   "metadata": {},
   "outputs": [],
   "source": [
    "methods = {\n",
    "        'MC': mc,\n",
    "        'Control Variates' : cv,\n",
    "        'Antitetic Variates': av,\n",
    "        'Importance Sampling': import_sampling,\n",
    "         }"
   ]
  },
  {
   "cell_type": "code",
   "execution_count": 82,
   "metadata": {},
   "outputs": [
    {
     "data": {
      "image/png": "[encoded data removed]",
      "text/plain": [
       "<Figure size 1296x648 with 1 Axes>"
      ]
     },
     "metadata": {
      "needs_background": "light"
     },
     "output_type": "display_data"
    }
   ],
   "source": [
    "fig, ax = plt.subplots(figsize=(18, 9))\n",
    "plt.xlim(10**4, 10**6)\n",
    "plt.ylim(min([min(m[10**4:]) for m in methods.values()]), \n",
    "         max([max(m[10**4:]) for m in methods.values()]))\n",
    "for k, v in methods.items():\n",
    "    plt.plot(v, label=k)\n",
    "plt.hlines(BS_price(100, 1, 100, 0.1, 0.1), xmin=0, xmax=10**6)\n",
    "plt.legend()\n",
    "plt.show()"
   ]
  },
  {
   "cell_type": "markdown",
   "metadata": {},
   "source": [
    "## Zadanie 3"
   ]
  },
  {
   "cell_type": "code",
   "execution_count": 56,
   "metadata": {},
   "outputs": [],
   "source": [
    "def approximation_Asia(value_function, St_function, generated_normal_variables,  n, **kwargs):\n",
    "    means = []\n",
    "    St_means= []\n",
    "    St = St_function(generated_normal_variables, n, **kwargs)\n",
    "    for i in tqdm(range(0, n)):\n",
    "        St_means = update_mean(St_means, i, St[i])\n",
    "        value = value_function(St_means[i], **kwargs)\n",
    "        means = update_mean(means, i, value)\n",
    "    return means\n",
    "\n",
    "def MC_Asia(St_mean, S_0, T, sigma, r, K):\n",
    "    return e ** (-r*T) * max(St_mean - K, 0)"
   ]
  },
  {
   "cell_type": "code",
   "execution_count": 83,
   "metadata": {},
   "outputs": [
    {
     "name": "stderr",
     "output_type": "stream",
     "text": [
      "100%|██████████| 100000/100000 [00:04<00:00, 23482.14it/s]\n"
     ]
    },
    {
     "data": {
      "text/plain": [
       "DescribeResult(nobs=100000, minmax=(7.212257990791487, 13.080756958560606), mean=9.557211644324605, variance=0.004419915016984102, skewness=-10.506781433839961, kurtosis=801.532641926686)"
      ]
     },
     "execution_count": 83,
     "metadata": {},
     "output_type": "execute_result"
    }
   ],
   "source": [
    "args['n']=100000\n",
    "mc_asia = approximation_Asia(MC_Asia, generate_S_T_vector, np.random.normal(size=args['n']), **args)\n",
    "scipy.stats.describe(mc_asia)"
   ]
  },
  {
   "cell_type": "markdown",
   "metadata": {},
   "source": [
    "Wycena opcji Azjatyckiej dla średniej geometrycznej w chwili $T=0$ (źródło: https://macsphere.mcmaster.ca/bitstream/11375/23088/2/Zeng_Jin_201712_MasterofScience.pdf):"
   ]
  },
  {
   "cell_type": "code",
   "execution_count": 84,
   "metadata": {},
   "outputs": [
    {
     "data": {
      "text/plain": [
       "10.308150925634413"
      ]
     },
     "execution_count": 84,
     "metadata": {},
     "output_type": "execute_result"
    }
   ],
   "source": [
    "def BS_price_Asia_geo_avg(S0, T, K, sigma, r):\n",
    "    return e**(-r*T) *(S0* e**(r*T)* norm.cdf(d1(S0, T, K, sigma, r)) - K*norm.cdf(d2(S0, T, K, sigma, r)))\n",
    "\n",
    "BS_price_Asia_geo_avg(100, 1, 100, 0.1, 0.1)"
   ]
  },
  {
   "cell_type": "markdown",
   "metadata": {},
   "source": [
    "## Zadanie 4"
   ]
  },
  {
   "cell_type": "code",
   "execution_count": 59,
   "metadata": {},
   "outputs": [],
   "source": [
    "S_0 = 100\n",
    "sigma = 1\n",
    "r = 0.1\n",
    "K_2 = 125\n",
    "K_1 = 115\n",
    "T=10"
   ]
  },
  {
   "cell_type": "markdown",
   "metadata": {},
   "source": [
    "Niestety nie zdążyłem wykonać wycen dla 2 ostatnich zadań. "
   ]
  },
  {
   "cell_type": "markdown",
   "metadata": {},
   "source": [
    "Potwierdzam samodzielność powyższej pracy oraz niekorzystanie przeze mnie z niedozwolonych źródeł. Stanisław Pawlak"
   ]
  }
 ],
 "metadata": {
  "kernelspec": {
   "display_name": "Python 3",
   "language": "python",
   "name": "python3"
  },
  "language_info": {
   "codemirror_mode": {
    "name": "ipython",
    "version": 3
   },
   "file_extension": ".py",
   "mimetype": "text/x-python",
   "name": "python",
   "nbconvert_exporter": "python",
   "pygments_lexer": "ipython3",
   "version": "3.6.9"
  }
 },
 "nbformat": 4,
 "nbformat_minor": 4
}
