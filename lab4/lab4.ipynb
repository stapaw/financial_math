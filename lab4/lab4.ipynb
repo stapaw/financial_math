{
 "cells": [
  {
   "cell_type": "code",
   "execution_count": 1,
   "metadata": {},
   "outputs": [],
   "source": [
    "import numpy as np\n",
    "import scipy.special"
   ]
  },
  {
   "cell_type": "code",
   "execution_count": 2,
   "metadata": {},
   "outputs": [],
   "source": [
    "class BankAccount:\n",
    "    def __init__(self, r):\n",
    "        self.r = r\n",
    "\n",
    "    def get_bank_account_value(self, t):\n",
    "        return (1 + self.r) ** t\n",
    "\n",
    "\n",
    "class MarketInstrument:\n",
    "    def __init__(self, S_0):\n",
    "        self.S_0 = S_0\n",
    "\n",
    "    def calculate_call_option_value(self, market, T, K):\n",
    "        return self._calculate_option_value(self.get_call_option_value, market, T, K)\n",
    "        \n",
    "    def calculate_put_option_value(self, market, T, K):\n",
    "        return self._calculate_option_value(self.get_put_option_value, market, T, K)\n",
    "\n",
    "    def _calculate_option_value(self, option_func_type, market, t, K):\n",
    "        prices = [option_func_type(t, t-j, market.d, market.u, K) for j in range(0, t+1)]\n",
    "        return self._get_value(t, prices, market.d, market.u, market.r, market.p)\n",
    "    \n",
    "    def _get_value(self, t, prices, d, u,r, p):\n",
    "        if t == 0:\n",
    "            return prices[0]\n",
    "        else:\n",
    "            for i in range(0, t):\n",
    "                prices[i] =1/(1+r)*(p*prices[i] + (1-p)*prices[i+1])\n",
    "            #print(prices[:t])\n",
    "            return self._get_value(t-1, prices, d, u,r,  p)\n",
    "\n",
    "    \n",
    "    def get_call_option_value(self, t, j, d, u, K):\n",
    "        return max(self.S_0 * u ** j * d ** (t - j) - K, 0)\n",
    "    \n",
    "    def get_put_option_value(self, t, j, d, u, K):\n",
    "        return max(K - self.S_0 * u ** j * d ** (t - j), 0)\n",
    "    \n"
   ]
  },
  {
   "cell_type": "code",
   "execution_count": 3,
   "metadata": {},
   "outputs": [],
   "source": [
    "class CRRMarket:\n",
    "    def __init__(self, S_0_values, d, u, r, T):\n",
    "        self.B = BankAccount(r)\n",
    "        self.p = (1 + r - d) / (u - d)\n",
    "        self.S = [MarketInstrument(S_0_values[i]) for i in range(0, len(S_0_values))]\n",
    "        self.d = d\n",
    "        self.u = u\n",
    "        self.r = r\n",
    "        self.T = T\n",
    "    \n",
    "    def calculate_call_options_values(self, T, K):\n",
    "        return [s.calculate_call_option_value(self, T, K[i]) for i, s in enumerate(self.S)]\n",
    "    \n",
    "    def calculate_put_options_values(self, T, K):\n",
    "        return [s.calculate_put_option_value(self, T, K[i]) for i, s in enumerate(self.S)]"
   ]
  },
  {
   "cell_type": "markdown",
   "metadata": {},
   "source": [
    "Market with more instruments example"
   ]
  },
  {
   "cell_type": "code",
   "execution_count": 4,
   "metadata": {},
   "outputs": [
    {
     "data": {
      "text/plain": [
       "[2.6131834512048897, 0.2613183451204891]"
      ]
     },
     "execution_count": 4,
     "metadata": {},
     "output_type": "execute_result"
    }
   ],
   "source": [
    "market = CRRMarket([100, 10], 0.8, 1.3, 0.1, 10)\n",
    "market.calculate_call_options_values(5, [90, 9])\n",
    "market.calculate_put_options_values(5, [90, 9])"
   ]
  },
  {
   "cell_type": "markdown",
   "metadata": {},
   "source": [
    "Example Market from task: "
   ]
  },
  {
   "cell_type": "code",
   "execution_count": 5,
   "metadata": {},
   "outputs": [
    {
     "data": {
      "text/plain": [
       "[10.0,\n",
       " 21.81818181818182,\n",
       " 29.05785123966944,\n",
       " 35.718707738542456,\n",
       " 41.84537121781301,\n",
       " 46.730264375880964,\n",
       " 51.952528772082964,\n",
       " 55.743947875943654,\n",
       " 60.18766988627156,\n",
       " 63.454777835596246,\n",
       " 66.97006486520782]"
      ]
     },
     "execution_count": 5,
     "metadata": {},
     "output_type": "execute_result"
    }
   ],
   "source": [
    "example_market = CRRMarket([100], 0.8, 1.3, 0.1, 10)\n",
    "call_options = []\n",
    "for i in range (0, 11):\n",
    "    call_options.append(example_market.S[0].calculate_call_option_value(example_market,i, 90))\n",
    "call_options"
   ]
  },
  {
   "cell_type": "code",
   "execution_count": 6,
   "metadata": {},
   "outputs": [
    {
     "data": {
      "text/plain": [
       "[0,\n",
       " 3.6363636363636354,\n",
       " 3.438016528925616,\n",
       " 3.337039819684442,\n",
       " 3.3165822006693486,\n",
       " 2.6131834512048897,\n",
       " 2.7551824769228896,\n",
       " 1.928178516707216,\n",
       " 2.1733341051475215,\n",
       " 1.623563489119839,\n",
       " 1.66896091386562]"
      ]
     },
     "execution_count": 6,
     "metadata": {},
     "output_type": "execute_result"
    }
   ],
   "source": [
    "put_options = []\n",
    "for i in range (0, 11):\n",
    "    put_options.append(example_market.S[0].calculate_put_option_value(example_market,i, 90))\n",
    "put_options"
   ]
  },
  {
   "cell_type": "markdown",
   "metadata": {},
   "source": [
    "## SPRAWDZENIE"
   ]
  },
  {
   "cell_type": "code",
   "execution_count": 7,
   "metadata": {},
   "outputs": [],
   "source": [
    "def calculate_option_value_theory(option_func_type, market, t, K):\n",
    "        scaling_value = 1 / market.B.get_bank_account_value(t)\n",
    "        sum = 0\n",
    "        for j in range(0, t+1):\n",
    "            sum += scipy.special.binom(t, j) * market.p ** j * (1 - market.p) ** (t - j) * option_func_type(t, j, market.d, market.u, K)\n",
    "        return sum * scaling_value\n"
   ]
  },
  {
   "cell_type": "code",
   "execution_count": 8,
   "metadata": {},
   "outputs": [
    {
     "name": "stdout",
     "output_type": "stream",
     "text": [
      "Test passed.\n"
     ]
    }
   ],
   "source": [
    "for i in range (0, 11):\n",
    "    assert abs(calculate_option_value_theory(example_market.S[0].get_call_option_value, example_market,i, 90) - call_options[i]) < 000.1\n",
    "    assert abs(calculate_option_value_theory(example_market.S[0].get_put_option_value, example_market,i, 90) - put_options[i]) < 000.1\n",
    "print(\"Test passed.\")"
   ]
  },
  {
   "cell_type": "markdown",
   "metadata": {},
   "source": [
    "## ODPOWIEDŹ"
   ]
  },
  {
   "cell_type": "code",
   "execution_count": 9,
   "metadata": {},
   "outputs": [
    {
     "name": "stdout",
     "output_type": "stream",
     "text": [
      "Wycena opcji call: 66.97006486520782 \n",
      "Wycena opcji put: 1.66896091386562.\n"
     ]
    }
   ],
   "source": [
    "print(f\"Wycena opcji call: {call_options[10]} \\nWycena opcji put: {put_options[10]}.\")"
   ]
  },
  {
   "cell_type": "markdown",
   "metadata": {},
   "source": [
    "Potwierdzam samodzielność powyższej pracy oraz niekorzystanie przeze mnie z niedozwolonych źródeł.\n",
    "Stanisław Pawlak"
   ]
  },
  {
   "cell_type": "markdown",
   "metadata": {},
   "source": []
  }
 ],
 "metadata": {
  "kernelspec": {
   "display_name": "Python 3",
   "language": "python",
   "name": "python3"
  },
  "language_info": {
   "codemirror_mode": {
    "name": "ipython",
    "version": 3
   },
   "file_extension": ".py",
   "mimetype": "text/x-python",
   "name": "python",
   "nbconvert_exporter": "python",
   "pygments_lexer": "ipython3",
   "version": "3.6.9"
  }
 },
 "nbformat": 4,
 "nbformat_minor": 4
}
