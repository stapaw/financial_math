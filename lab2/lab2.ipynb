{
 "cells": [
  {
   "cell_type": "markdown",
   "metadata": {},
   "source": [
    "## LAB 2"
   ]
  },
  {
   "cell_type": "code",
   "execution_count": 11,
   "metadata": {},
   "outputs": [],
   "source": [
    "import numpy as np\n",
    "import math\n",
    "import matplotlib.pyplot as plt\n",
    "import time"
   ]
  },
  {
   "cell_type": "markdown",
   "metadata": {},
   "source": [
    "# Exercise 1\n",
    "Source used: http://www.math.uchicago.edu/~may/VIGRE/VIGRE2010/REUPapers/Mcquighan.pdf"
   ]
  },
  {
   "cell_type": "code",
   "execution_count": 2,
   "metadata": {},
   "outputs": [],
   "source": [
    "def generate_poisson_trajectory(lbda, T):\n",
    "    ts, t = [0], 0\n",
    "    while t <= T:\n",
    "        u = np.random.uniform(0, 1)\n",
    "        y = -math.log(1 - u) / lbda\n",
    "        t = t + y\n",
    "        if t <= T:\n",
    "            ts.append(t)\n",
    "    return ts"
   ]
  },
  {
   "cell_type": "code",
   "execution_count": 3,
   "metadata": {},
   "outputs": [
    {
     "data": {
      "text/plain": [
       "<matplotlib.axes._subplots.AxesSubplot at 0x7fccff59ada0>"
      ]
     },
     "execution_count": 3,
     "metadata": {},
     "output_type": "execute_result"
    },
    {
     "data": {
      "image/png": "[encoded data removed]",
      "text/plain": [
       "<Figure size 576x288 with 1 Axes>"
      ]
     },
     "metadata": {
      "needs_background": "light"
     },
     "output_type": "display_data"
    }
   ],
   "source": [
    "fig, ax = plt.subplots(figsize=(8, 4))\n",
    "\n",
    "ts = generate_poisson_trajectory(0.5, 25)\n",
    "ax.step(ts, [i for i in range(0, len(ts))])\n",
    "ax"
   ]
  },
  {
   "cell_type": "code",
   "execution_count": 4,
   "metadata": {},
   "outputs": [
    {
     "data": {
      "text/plain": [
       "<matplotlib.axes._subplots.AxesSubplot at 0x7fccbaa2abe0>"
      ]
     },
     "execution_count": 4,
     "metadata": {},
     "output_type": "execute_result"
    },
    {
     "data": {
      "image/png": "[encoded data removed]",
      "text/plain": [
       "<Figure size 576x288 with 1 Axes>"
      ]
     },
     "metadata": {
      "needs_background": "light"
     },
     "output_type": "display_data"
    }
   ],
   "source": [
    "lbda = 0.5\n",
    "T = 25\n",
    "results = []\n",
    "for x in range(0, 10000):\n",
    "    results.append(len(generate_poisson_trajectory(lbda, T)) - 1)\n",
    "\n",
    "fig, ax = plt.subplots(figsize=(8, 4))\n",
    "data = np.arange(0, 25, 0.1)\n",
    "ax.hist(results, bins=data)\n",
    "ax"
   ]
  },
  {
   "cell_type": "markdown",
   "metadata": {},
   "source": [
    "# Exercise 2\n",
    "First method"
   ]
  },
  {
   "cell_type": "code",
   "execution_count": 5,
   "metadata": {},
   "outputs": [],
   "source": [
    "def generate_wiener_trajectory1(T):\n",
    "    t, w = [i for i in range(0, T+1)], [0]\n",
    "    for i in t[:-1]:\n",
    "        w.append(w[i] + math.sqrt(t[i+1] - t[i]) * np.random.normal())\n",
    "    return w"
   ]
  },
  {
   "cell_type": "code",
   "execution_count": 9,
   "metadata": {},
   "outputs": [
    {
     "data": {
      "text/plain": [
       "<matplotlib.axes._subplots.AxesSubplot at 0x7fccba6897f0>"
      ]
     },
     "execution_count": 9,
     "metadata": {},
     "output_type": "execute_result"
    },
    {
     "data": {
      "image/png": "[encoded data removed]",
      "text/plain": [
       "<Figure size 576x288 with 1 Axes>"
      ]
     },
     "metadata": {
      "needs_background": "light"
     },
     "output_type": "display_data"
    }
   ],
   "source": [
    "w = generate_wiener_trajectory1(25)\n",
    "\n",
    "fig, ax = plt.subplots(figsize=(8, 4))\n",
    "ax.step([i for i in range(0, len(w))], w)\n",
    "ax"
   ]
  },
  {
   "cell_type": "markdown",
   "metadata": {},
   "source": [
    "Second method"
   ]
  },
  {
   "cell_type": "code",
   "execution_count": 7,
   "metadata": {},
   "outputs": [],
   "source": [
    "def create_sigma(T):\n",
    "    sigma = [[0.0] * T for i in range(0, T)]\n",
    "    for i in range(0, T):\n",
    "        for j in range(0, T):\n",
    "            sigma[i][j] = min(i+1, j+1)\n",
    "    return sigma\n",
    "\n",
    "def cholesky(S):\n",
    "    n = len(S)\n",
    "    L = [[0.0] * n for i in range(0, n)]\n",
    "    for i in range(0, n):\n",
    "        for k in range(0, i + 1):\n",
    "            tmp_sum = sum(L[i][j] * L[k][j] for j in range(0, k))\n",
    "            if i == k:\n",
    "                L[i][k] = math.sqrt(S[i][i] - tmp_sum)\n",
    "            else:\n",
    "                L[i][k] = (1.0 / L[k][k] * (S[i][k] - tmp_sum))\n",
    "    return L\n",
    "\n",
    "def generate_wiener_trajectory2(T):\n",
    "    sigma = create_sigma(T-1)\n",
    "    L = np.array(cholesky(sigma))\n",
    "    X = np.array([np.random.normal() for i in range(0, T-1)])\n",
    "    return [0] + list(L@X)"
   ]
  },
  {
   "cell_type": "code",
   "execution_count": 10,
   "metadata": {},
   "outputs": [
    {
     "data": {
      "text/plain": [
       "<matplotlib.axes._subplots.AxesSubplot at 0x7fccba5e52e8>"
      ]
     },
     "execution_count": 10,
     "metadata": {},
     "output_type": "execute_result"
    },
    {
     "data": {
      "image/png": "[encoded data removed]",
      "text/plain": [
       "<Figure size 576x288 with 1 Axes>"
      ]
     },
     "metadata": {
      "needs_background": "light"
     },
     "output_type": "display_data"
    }
   ],
   "source": [
    "w = generate_wiener_trajectory2(25)\n",
    "\n",
    "fig, ax = plt.subplots(figsize=(8, 4))\n",
    "ax.step([i for i in range(0, len(w))], w)\n",
    "ax"
   ]
  },
  {
   "cell_type": "markdown",
   "metadata": {},
   "source": [
    "Time comparison"
   ]
  },
  {
   "cell_type": "code",
   "execution_count": 16,
   "metadata": {},
   "outputs": [
    {
     "name": "stdout",
     "output_type": "stream",
     "text": [
      "First method:  0.0007491111755371094\n",
      "Second method:  0.37170958518981934\n"
     ]
    }
   ],
   "source": [
    "T = 300\n",
    "start = time.time()\n",
    "w = generate_wiener_trajectory1(T)\n",
    "end = time.time()\n",
    "print(\"First method: \", end - start)\n",
    "\n",
    "start = time.time()\n",
    "w = generate_wiener_trajectory2(T)\n",
    "end = time.time()\n",
    "print(\"Second method: \", end - start)"
   ]
  },
  {
   "cell_type": "code",
   "execution_count": null,
   "metadata": {},
   "outputs": [],
   "source": []
  }
 ],
 "metadata": {
  "kernelspec": {
   "display_name": "Python 3",
   "language": "python",
   "name": "python3"
  },
  "language_info": {
   "codemirror_mode": {
    "name": "ipython",
    "version": 3
   },
   "file_extension": ".py",
   "mimetype": "text/x-python",
   "name": "python",
   "nbconvert_exporter": "python",
   "pygments_lexer": "ipython3",
   "version": "3.6.9"
  }
 },
 "nbformat": 4,
 "nbformat_minor": 4
}
